{
 "cells": [
  {
   "cell_type": "markdown",
   "metadata": {},
   "source": [
    "<table style=\"float:left; border:none\">\n",
    "   <tr style=\"border:none\">\n",
    "       <td style=\"border:none\">\n",
    "           <a href=\"http://bokeh.pydata.org/\">     \n",
    "           <img \n",
    "               src=\"assets/images/bokeh-transparent.png\" \n",
    "               style=\"width:50px\"\n",
    "           >\n",
    "           </a>    \n",
    "       </td>\n",
    "       <td style=\"border:none\">\n",
    "           <h1>Bokeh Tutorial</h1>\n",
    "       </td>\n",
    "   </tr>\n",
    "</table>\n",
    "<div style=\"float:right;\"><h2>00. Introduction and Setup</h2></div>"
   ]
  },
  {
   "cell_type": "markdown",
   "metadata": {},
   "source": [
    "# Table of Contents\n",
    "\n",
    "* [Tutorial Overview](#Tutorial-Overview)\n",
    "* [What is Bokeh](#What-is-Bokeh) \n",
    "* [What can I *do* with Bokeh](#What-can-I-do-with-Bokeh) \n",
    "* [How does it work](#How-does-it-work)\n",
    "* [Getting set up](#Getting-set-up)"
   ]
  },
  {
   "cell_type": "markdown",
   "metadata": {},
   "source": [
    "## Tutorial Overview\n",
    "\n",
    "The tutorial is broken into several sections, which are each presented in their own notebook:\n",
    "\n",
    "1. [Basic Plotting Interface](01 - plotting.ipynb)\n",
    "\n",
    "2. [Column Data Sources](02 - column data source.ipynb)\n",
    "\n",
    "3. [Layouts, Widgets, and Interactions](03 - interactions.ipynb) \n",
    "\n",
    "4. [Styling Visual Attributes](04 - styling.ipynb) \n",
    "\n",
    "5. [Data Transformations](05 - data transformations.ipynb)\n",
    "\n",
    "6. [Bokeh Applications](06 - server.ipynb) \n",
    "\n",
    "7. [Sharing and Embedding](07 - sharing.ipynb) \n",
    "\n",
    "8. [Annotations](08 - annotations.ipynb) \n",
    "\n",
    "9. [Models and Primitives](09 - models.ipynb) \n",
    "\n",
    "10. [High Level Charts](10 - charts.ipynb) \n",
    "\n",
    "11. [Geographic Data](11 - geo.ipynb)\n",
    "\n",
    "12. [Datashader: Visualizaing Large Data](12 - datashader.ipynb)\n",
    "\n",
    "13. [HoloViews and Bokeh](13 - holoviews.ipynb)\n",
    "\n",
    "Appendices\n",
    "\n",
    "1. [Extra Bokeh Topics](A1 - Extra Resources.ipynb) "
   ]
  },
  {
   "cell_type": "markdown",
   "metadata": {},
   "source": [
    "## What is Bokeh\n",
    "\n",
    "Bokeh is a Data Visualization library for\n",
    "\n",
    "* interactive visualization in modern browsers\n",
    "* standalone HTML documents, or server-backed apps\n",
    "* capable of expressive and versatile graphics\n",
    "* can handle large, dynamic or streaming data\n",
    "* available from python (or Scala, or R, or Julia, or...)\n",
    "\n",
    "And most importantly:\n",
    "\n",
    "## <center>NO JAVASCRIPT REQUIRED </center>"
   ]
  },
  {
   "cell_type": "markdown",
   "metadata": {},
   "source": [
    "## What can you *do* with Bokeh"
   ]
  },
  {
   "cell_type": "code",
   "execution_count": 1,
   "metadata": {},
   "outputs": [
    {
     "data": {
      "text/html": [
       "\n",
       "    <div class=\"bk-root\">\n",
       "        <a href=\"http://bokeh.pydata.org\" target=\"_blank\" class=\"bk-logo bk-logo-small bk-logo-notebook\"></a>\n",
       "        <span id=\"05e3cea0-edd6-4b9e-9903-d8f98b95bc2a\">Loading BokehJS ...</span>\n",
       "    </div>"
      ]
     },
     "metadata": {},
     "output_type": "display_data"
    },
    {
     "data": {
      "application/javascript": [
       "\n",
       "(function(global) {\n",
       "  function now() {\n",
       "    return new Date();\n",
       "  }\n",
       "\n",
       "  var force = true;\n",
       "\n",
       "  if (typeof (window._bokeh_onload_callbacks) === \"undefined\" || force === true) {\n",
       "    window._bokeh_onload_callbacks = [];\n",
       "    window._bokeh_is_loading = undefined;\n",
       "  }\n",
       "\n",
       "\n",
       "  \n",
       "  if (typeof (window._bokeh_timeout) === \"undefined\" || force === true) {\n",
       "    window._bokeh_timeout = Date.now() + 5000;\n",
       "    window._bokeh_failed_load = false;\n",
       "  }\n",
       "\n",
       "  var NB_LOAD_WARNING = {'data': {'text/html':\n",
       "     \"<div style='background-color: #fdd'>\\n\"+\n",
       "     \"<p>\\n\"+\n",
       "     \"BokehJS does not appear to have successfully loaded. If loading BokehJS from CDN, this \\n\"+\n",
       "     \"may be due to a slow or bad network connection. Possible fixes:\\n\"+\n",
       "     \"</p>\\n\"+\n",
       "     \"<ul>\\n\"+\n",
       "     \"<li>re-rerun `output_notebook()` to attempt to load from CDN again, or</li>\\n\"+\n",
       "     \"<li>use INLINE resources instead, as so:</li>\\n\"+\n",
       "     \"</ul>\\n\"+\n",
       "     \"<code>\\n\"+\n",
       "     \"from bokeh.resources import INLINE\\n\"+\n",
       "     \"output_notebook(resources=INLINE)\\n\"+\n",
       "     \"</code>\\n\"+\n",
       "     \"</div>\"}};\n",
       "\n",
       "  function display_loaded() {\n",
       "    if (window.Bokeh !== undefined) {\n",
       "      var el = document.getElementById(\"05e3cea0-edd6-4b9e-9903-d8f98b95bc2a\");\n",
       "      el.textContent = \"BokehJS \" + Bokeh.version + \" successfully loaded.\";\n",
       "    } else if (Date.now() < window._bokeh_timeout) {\n",
       "      setTimeout(display_loaded, 100)\n",
       "    }\n",
       "  }\n",
       "\n",
       "  function run_callbacks() {\n",
       "    try {\n",
       "      window._bokeh_onload_callbacks.forEach(function(callback) { callback() });\n",
       "    }\n",
       "    finally {\n",
       "      delete window._bokeh_onload_callbacks\n",
       "    }\n",
       "    console.info(\"Bokeh: all callbacks have finished\");\n",
       "  }\n",
       "\n",
       "  function load_libs(js_urls, callback) {\n",
       "    window._bokeh_onload_callbacks.push(callback);\n",
       "    if (window._bokeh_is_loading > 0) {\n",
       "      console.log(\"Bokeh: BokehJS is being loaded, scheduling callback at\", now());\n",
       "      return null;\n",
       "    }\n",
       "    if (js_urls == null || js_urls.length === 0) {\n",
       "      run_callbacks();\n",
       "      return null;\n",
       "    }\n",
       "    console.log(\"Bokeh: BokehJS not loaded, scheduling load and callback at\", now());\n",
       "    window._bokeh_is_loading = js_urls.length;\n",
       "    for (var i = 0; i < js_urls.length; i++) {\n",
       "      var url = js_urls[i];\n",
       "      var s = document.createElement('script');\n",
       "      s.src = url;\n",
       "      s.async = false;\n",
       "      s.onreadystatechange = s.onload = function() {\n",
       "        window._bokeh_is_loading--;\n",
       "        if (window._bokeh_is_loading === 0) {\n",
       "          console.log(\"Bokeh: all BokehJS libraries loaded\");\n",
       "          run_callbacks()\n",
       "        }\n",
       "      };\n",
       "      s.onerror = function() {\n",
       "        console.warn(\"failed to load library \" + url);\n",
       "      };\n",
       "      console.log(\"Bokeh: injecting script tag for BokehJS library: \", url);\n",
       "      document.getElementsByTagName(\"head\")[0].appendChild(s);\n",
       "    }\n",
       "  };var element = document.getElementById(\"05e3cea0-edd6-4b9e-9903-d8f98b95bc2a\");\n",
       "  if (element == null) {\n",
       "    console.log(\"Bokeh: ERROR: autoload.js configured with elementid '05e3cea0-edd6-4b9e-9903-d8f98b95bc2a' but no matching script tag was found. \")\n",
       "    return false;\n",
       "  }\n",
       "\n",
       "  var js_urls = [\"https://cdn.pydata.org/bokeh/release/bokeh-0.12.6.min.js\", \"https://cdn.pydata.org/bokeh/release/bokeh-widgets-0.12.6.min.js\"];\n",
       "\n",
       "  var inline_js = [\n",
       "    function(Bokeh) {\n",
       "      Bokeh.set_log_level(\"info\");\n",
       "    },\n",
       "    \n",
       "    function(Bokeh) {\n",
       "      \n",
       "    },\n",
       "    \n",
       "    function(Bokeh) {\n",
       "      \n",
       "      document.getElementById(\"05e3cea0-edd6-4b9e-9903-d8f98b95bc2a\").textContent = \"BokehJS is loading...\";\n",
       "    },\n",
       "    function(Bokeh) {\n",
       "      console.log(\"Bokeh: injecting CSS: https://cdn.pydata.org/bokeh/release/bokeh-0.12.6.min.css\");\n",
       "      Bokeh.embed.inject_css(\"https://cdn.pydata.org/bokeh/release/bokeh-0.12.6.min.css\");\n",
       "      console.log(\"Bokeh: injecting CSS: https://cdn.pydata.org/bokeh/release/bokeh-widgets-0.12.6.min.css\");\n",
       "      Bokeh.embed.inject_css(\"https://cdn.pydata.org/bokeh/release/bokeh-widgets-0.12.6.min.css\");\n",
       "    }\n",
       "  ];\n",
       "\n",
       "  function run_inline_js() {\n",
       "    \n",
       "    if ((window.Bokeh !== undefined) || (force === true)) {\n",
       "      for (var i = 0; i < inline_js.length; i++) {\n",
       "        inline_js[i](window.Bokeh);\n",
       "      }if (force === true) {\n",
       "        display_loaded();\n",
       "      }} else if (Date.now() < window._bokeh_timeout) {\n",
       "      setTimeout(run_inline_js, 100);\n",
       "    } else if (!window._bokeh_failed_load) {\n",
       "      console.log(\"Bokeh: BokehJS failed to load within specified timeout.\");\n",
       "      window._bokeh_failed_load = true;\n",
       "    } else if (force !== true) {\n",
       "      var cell = $(document.getElementById(\"05e3cea0-edd6-4b9e-9903-d8f98b95bc2a\")).parents('.cell').data().cell;\n",
       "      cell.output_area.append_execute_result(NB_LOAD_WARNING)\n",
       "    }\n",
       "\n",
       "  }\n",
       "\n",
       "  if (window._bokeh_is_loading === 0) {\n",
       "    console.log(\"Bokeh: BokehJS loaded, going straight to plotting\");\n",
       "    run_inline_js();\n",
       "  } else {\n",
       "    load_libs(js_urls, function() {\n",
       "      console.log(\"Bokeh: BokehJS plotting callback run at\", now());\n",
       "      run_inline_js();\n",
       "    });\n",
       "  }\n",
       "}(this));"
      ]
     },
     "metadata": {},
     "output_type": "display_data"
    }
   ],
   "source": [
    "# Standard imports \n",
    "\n",
    "from bokeh.io import output_notebook, show\n",
    "output_notebook()"
   ]
  },
  {
   "cell_type": "code",
   "execution_count": null,
   "metadata": {
    "collapsed": true
   },
   "outputs": [],
   "source": []
  },
  {
   "cell_type": "code",
   "execution_count": 2,
   "metadata": {
    "scrolled": false
   },
   "outputs": [
    {
     "data": {
      "text/html": [
       "\n",
       "\n",
       "    <div class=\"bk-root\">\n",
       "        <div class=\"bk-plotdiv\" id=\"d6685b20-169c-4aae-833c-b2e6cb548b2b\"></div>\n",
       "    </div>\n",
       "<script type=\"text/javascript\">\n",
       "  \n",
       "  (function(global) {\n",
       "    function now() {\n",
       "      return new Date();\n",
       "    }\n",
       "  \n",
       "    var force = false;\n",
       "  \n",
       "    if (typeof (window._bokeh_onload_callbacks) === \"undefined\" || force === true) {\n",
       "      window._bokeh_onload_callbacks = [];\n",
       "      window._bokeh_is_loading = undefined;\n",
       "    }\n",
       "  \n",
       "  \n",
       "    \n",
       "    if (typeof (window._bokeh_timeout) === \"undefined\" || force === true) {\n",
       "      window._bokeh_timeout = Date.now() + 0;\n",
       "      window._bokeh_failed_load = false;\n",
       "    }\n",
       "  \n",
       "    var NB_LOAD_WARNING = {'data': {'text/html':\n",
       "       \"<div style='background-color: #fdd'>\\n\"+\n",
       "       \"<p>\\n\"+\n",
       "       \"BokehJS does not appear to have successfully loaded. If loading BokehJS from CDN, this \\n\"+\n",
       "       \"may be due to a slow or bad network connection. Possible fixes:\\n\"+\n",
       "       \"</p>\\n\"+\n",
       "       \"<ul>\\n\"+\n",
       "       \"<li>re-rerun `output_notebook()` to attempt to load from CDN again, or</li>\\n\"+\n",
       "       \"<li>use INLINE resources instead, as so:</li>\\n\"+\n",
       "       \"</ul>\\n\"+\n",
       "       \"<code>\\n\"+\n",
       "       \"from bokeh.resources import INLINE\\n\"+\n",
       "       \"output_notebook(resources=INLINE)\\n\"+\n",
       "       \"</code>\\n\"+\n",
       "       \"</div>\"}};\n",
       "  \n",
       "    function display_loaded() {\n",
       "      if (window.Bokeh !== undefined) {\n",
       "        var el = document.getElementById(\"d6685b20-169c-4aae-833c-b2e6cb548b2b\");\n",
       "        el.textContent = \"BokehJS \" + Bokeh.version + \" successfully loaded.\";\n",
       "      } else if (Date.now() < window._bokeh_timeout) {\n",
       "        setTimeout(display_loaded, 100)\n",
       "      }\n",
       "    }\n",
       "  \n",
       "    function run_callbacks() {\n",
       "      try {\n",
       "        window._bokeh_onload_callbacks.forEach(function(callback) { callback() });\n",
       "      }\n",
       "      finally {\n",
       "        delete window._bokeh_onload_callbacks\n",
       "      }\n",
       "      console.info(\"Bokeh: all callbacks have finished\");\n",
       "    }\n",
       "  \n",
       "    function load_libs(js_urls, callback) {\n",
       "      window._bokeh_onload_callbacks.push(callback);\n",
       "      if (window._bokeh_is_loading > 0) {\n",
       "        console.log(\"Bokeh: BokehJS is being loaded, scheduling callback at\", now());\n",
       "        return null;\n",
       "      }\n",
       "      if (js_urls == null || js_urls.length === 0) {\n",
       "        run_callbacks();\n",
       "        return null;\n",
       "      }\n",
       "      console.log(\"Bokeh: BokehJS not loaded, scheduling load and callback at\", now());\n",
       "      window._bokeh_is_loading = js_urls.length;\n",
       "      for (var i = 0; i < js_urls.length; i++) {\n",
       "        var url = js_urls[i];\n",
       "        var s = document.createElement('script');\n",
       "        s.src = url;\n",
       "        s.async = false;\n",
       "        s.onreadystatechange = s.onload = function() {\n",
       "          window._bokeh_is_loading--;\n",
       "          if (window._bokeh_is_loading === 0) {\n",
       "            console.log(\"Bokeh: all BokehJS libraries loaded\");\n",
       "            run_callbacks()\n",
       "          }\n",
       "        };\n",
       "        s.onerror = function() {\n",
       "          console.warn(\"failed to load library \" + url);\n",
       "        };\n",
       "        console.log(\"Bokeh: injecting script tag for BokehJS library: \", url);\n",
       "        document.getElementsByTagName(\"head\")[0].appendChild(s);\n",
       "      }\n",
       "    };var element = document.getElementById(\"d6685b20-169c-4aae-833c-b2e6cb548b2b\");\n",
       "    if (element == null) {\n",
       "      console.log(\"Bokeh: ERROR: autoload.js configured with elementid 'd6685b20-169c-4aae-833c-b2e6cb548b2b' but no matching script tag was found. \")\n",
       "      return false;\n",
       "    }\n",
       "  \n",
       "    var js_urls = [];\n",
       "  \n",
       "    var inline_js = [\n",
       "      function(Bokeh) {\n",
       "        (function() {\n",
       "          var fn = function() {\n",
       "            var docs_json = {\"67bacab6-5d74-4aa7-bee2-ad16dd84feac\":{\"roots\":{\"references\":[{\"attributes\":{\"fill_alpha\":{\"field\":\"fill_alpha\"},\"fill_color\":{\"field\":\"color\"},\"height\":{\"field\":\"height\",\"units\":\"data\"},\"line_color\":{\"field\":\"line_color\"},\"width\":{\"field\":\"width\",\"units\":\"data\"},\"x\":{\"field\":\"x\"},\"y\":{\"field\":\"y\"}},\"id\":\"fb935057-b940-4a6e-83ac-d417f5981f91\",\"type\":\"Rect\"},{\"attributes\":{\"data_source\":{\"id\":\"aae1c1af-9fb4-4afd-9026-870c8cd6bce1\",\"type\":\"ColumnDataSource\"},\"glyph\":{\"id\":\"915996f1-5fc6-4ab7-a64d-e569ba7dd19e\",\"type\":\"Rect\"},\"hover_glyph\":null,\"muted_glyph\":null},\"id\":\"ebf80775-4988-46f9-87a5-4f6b6fb2b58c\",\"type\":\"GlyphRenderer\"},{\"attributes\":{\"label\":{\"value\":\"virginica\"},\"renderers\":[{\"id\":\"3b45eb5f-4da9-4bb6-8c03-1569891334e2\",\"type\":\"GlyphRenderer\"},{\"id\":\"6ff9cd3c-8636-4180-925c-56d2cb470ee2\",\"type\":\"GlyphRenderer\"},{\"id\":\"9d4b1d8e-5ce3-4d43-9527-4f8e1198b5ff\",\"type\":\"GlyphRenderer\"},{\"id\":\"60415589-154b-4dd8-aee8-44d3e73055f7\",\"type\":\"GlyphRenderer\"},{\"id\":\"e0776a6e-1ff4-44a3-9e08-0425a36faafa\",\"type\":\"GlyphRenderer\"},{\"id\":\"365ac017-1caa-476e-b4c6-d66ff947567c\",\"type\":\"GlyphRenderer\"},{\"id\":\"e543fa96-318e-4eb3-87af-79bfec83bc72\",\"type\":\"GlyphRenderer\"},{\"id\":\"77d13a90-151a-426b-9b95-081e3be2aa40\",\"type\":\"GlyphRenderer\"},{\"id\":\"0ced112e-0610-4953-8e89-82b0d0c86d4b\",\"type\":\"GlyphRenderer\"},{\"id\":\"ac670538-2e82-4857-8c81-14fcf60971c7\",\"type\":\"GlyphRenderer\"},{\"id\":\"97bfa041-eab3-4e76-bd68-d5d0d35f86d6\",\"type\":\"GlyphRenderer\"},{\"id\":\"e78410b0-632c-4008-9580-1515f197c44c\",\"type\":\"GlyphRenderer\"}]},\"id\":\"ea83d1a7-ce9e-4fca-9cec-3aa8c7f019c9\",\"type\":\"LegendItem\"},{\"attributes\":{\"callback\":null,\"end\":7.0975,\"start\":0.8025},\"id\":\"ac3be1c4-3f55-47cb-ab50-da5eb6c11b0d\",\"type\":\"Range1d\"},{\"attributes\":{\"callback\":null,\"column_names\":[\"line_color\",\"fill_alpha\",\"y\",\"width\",\"label\",\"height\",\"color\",\"x\",\"line_alpha\"],\"data\":{\"chart_index\":[\"(1.225000, 1.300000]\"],\"color\":[\"#f22c40\"],\"fill_alpha\":[0.6],\"height\":[0.0],\"label\":[\"(1.225000, 1.300000]\"],\"line_alpha\":[1.0],\"line_color\":[\"black\"],\"width\":[0.07499999999999996],\"x\":[\"1.2625000000000002\"],\"y\":[0.0]}},\"id\":\"262c5ee6-11e7-4a9d-ab4e-9a477b38b7ad\",\"type\":\"ColumnDataSource\"},{\"attributes\":{\"data_source\":{\"id\":\"1c7a50d7-5db6-4c9b-ac25-e1085944c970\",\"type\":\"ColumnDataSource\"},\"glyph\":{\"id\":\"ff5ffb8d-0065-4f5a-bd5d-01e5cd44ccbc\",\"type\":\"Rect\"},\"hover_glyph\":null,\"muted_glyph\":null},\"id\":\"56120882-f5c7-4ef0-8798-a40685d50a86\",\"type\":\"GlyphRenderer\"},{\"attributes\":{\"callback\":null,\"end\":14.3},\"id\":\"32957254-66bc-4e12-beae-a65b8d47ae95\",\"type\":\"Range1d\"},{\"attributes\":{\"fill_alpha\":{\"field\":\"fill_alpha\"},\"fill_color\":{\"field\":\"color\"},\"height\":{\"field\":\"height\",\"units\":\"data\"},\"line_color\":{\"field\":\"line_color\"},\"width\":{\"field\":\"width\",\"units\":\"data\"},\"x\":{\"field\":\"x\"},\"y\":{\"field\":\"y\"}},\"id\":\"13a18101-b63c-49d9-bfdc-b7ebfc4ffaec\",\"type\":\"Rect\"},{\"attributes\":{\"callback\":null,\"column_names\":[\"line_color\",\"fill_alpha\",\"y\",\"width\",\"label\",\"height\",\"color\",\"x\",\"line_alpha\"],\"data\":{\"chart_index\":[\"(6.500000, 6.700000]\"],\"color\":[\"#407ee7\"],\"fill_alpha\":[0.6],\"height\":[3.0],\"label\":[\"(6.500000, 6.700000]\"],\"line_alpha\":[1.0],\"line_color\":[\"black\"],\"width\":[0.20000000000000107],\"x\":[\"6.6\"],\"y\":[1.5]}},\"id\":\"6dbd2bdb-d277-471e-8bbe-e31bc4ac08a7\",\"type\":\"ColumnDataSource\"},{\"attributes\":{\"fill_alpha\":{\"field\":\"fill_alpha\"},\"fill_color\":{\"field\":\"color\"},\"height\":{\"field\":\"height\",\"units\":\"data\"},\"line_color\":{\"field\":\"line_color\"},\"width\":{\"field\":\"width\",\"units\":\"data\"},\"x\":{\"field\":\"x\"},\"y\":{\"field\":\"y\"}},\"id\":\"479a90ba-df37-4d84-a612-ac1eaedd7741\",\"type\":\"Rect\"},{\"attributes\":{\"below\":[{\"id\":\"0d23b916-a46c-47cd-87ef-379ccf44cb1a\",\"type\":\"LinearAxis\"}],\"css_classes\":null,\"left\":[{\"id\":\"d3c1112d-af4f-475a-9e25-57af4be5558c\",\"type\":\"LinearAxis\"}],\"renderers\":[{\"id\":\"dcb9e246-0a36-4366-acc2-900d61b4999e\",\"type\":\"BoxAnnotation\"},{\"id\":\"ebf80775-4988-46f9-87a5-4f6b6fb2b58c\",\"type\":\"GlyphRenderer\"},{\"id\":\"927e7a20-63e3-4293-a987-edb66c140bb7\",\"type\":\"GlyphRenderer\"},{\"id\":\"79eb683e-0b8f-4b91-aca7-a3bf2f4cb458\",\"type\":\"GlyphRenderer\"},{\"id\":\"44689068-5cf2-496c-9136-1e7931277f1a\",\"type\":\"GlyphRenderer\"},{\"id\":\"56120882-f5c7-4ef0-8798-a40685d50a86\",\"type\":\"GlyphRenderer\"},{\"id\":\"14dc95da-0d77-4152-9fb2-9a2a3e71eace\",\"type\":\"GlyphRenderer\"},{\"id\":\"1c4dbc57-75d3-46c0-bb99-2893d1ec5091\",\"type\":\"GlyphRenderer\"},{\"id\":\"4e8fcd76-0095-4372-b68a-4e722b453709\",\"type\":\"GlyphRenderer\"},{\"id\":\"89503d45-bb31-46ac-94de-6d2552e52c2b\",\"type\":\"GlyphRenderer\"},{\"id\":\"344790bc-093d-4da5-965b-8392b85bd904\",\"type\":\"GlyphRenderer\"},{\"id\":\"86c6244f-ff02-4709-9e23-019eb2f2a003\",\"type\":\"GlyphRenderer\"},{\"id\":\"8717cebf-c39c-42ba-9fa0-5e8279168e95\",\"type\":\"GlyphRenderer\"},{\"id\":\"d6f206cd-0e3e-48d9-93b7-906d8237840d\",\"type\":\"GlyphRenderer\"},{\"id\":\"3ee23330-a747-4aa7-a6d7-931bc1025229\",\"type\":\"GlyphRenderer\"},{\"id\":\"10af1f70-754f-4cd4-9989-e4f79ed93ebe\",\"type\":\"GlyphRenderer\"},{\"id\":\"048d8253-2a61-4ed5-9a1d-34ff9de2b49b\",\"type\":\"GlyphRenderer\"},{\"id\":\"23505123-6817-4a13-8252-aa54bee099a5\",\"type\":\"GlyphRenderer\"},{\"id\":\"59bac17b-4262-4e16-9eef-0774d6334f15\",\"type\":\"GlyphRenderer\"},{\"id\":\"afaea843-14a0-4779-84d1-c7902d23a16f\",\"type\":\"GlyphRenderer\"},{\"id\":\"b8c32b09-7968-4956-ada2-fd70b8617911\",\"type\":\"GlyphRenderer\"},{\"id\":\"e28b86f6-e1ff-40cd-845f-5a36a30e3854\",\"type\":\"GlyphRenderer\"},{\"id\":\"5e07fbf5-2c13-450b-9f7a-a65dd576a943\",\"type\":\"GlyphRenderer\"},{\"id\":\"617ca987-e695-4272-b1ed-88a5607078ac\",\"type\":\"GlyphRenderer\"},{\"id\":\"fd59bb28-77f9-4a87-9d13-347612431829\",\"type\":\"GlyphRenderer\"},{\"id\":\"3b45eb5f-4da9-4bb6-8c03-1569891334e2\",\"type\":\"GlyphRenderer\"},{\"id\":\"6ff9cd3c-8636-4180-925c-56d2cb470ee2\",\"type\":\"GlyphRenderer\"},{\"id\":\"9d4b1d8e-5ce3-4d43-9527-4f8e1198b5ff\",\"type\":\"GlyphRenderer\"},{\"id\":\"60415589-154b-4dd8-aee8-44d3e73055f7\",\"type\":\"GlyphRenderer\"},{\"id\":\"e0776a6e-1ff4-44a3-9e08-0425a36faafa\",\"type\":\"GlyphRenderer\"},{\"id\":\"365ac017-1caa-476e-b4c6-d66ff947567c\",\"type\":\"GlyphRenderer\"},{\"id\":\"e543fa96-318e-4eb3-87af-79bfec83bc72\",\"type\":\"GlyphRenderer\"},{\"id\":\"77d13a90-151a-426b-9b95-081e3be2aa40\",\"type\":\"GlyphRenderer\"},{\"id\":\"0ced112e-0610-4953-8e89-82b0d0c86d4b\",\"type\":\"GlyphRenderer\"},{\"id\":\"ac670538-2e82-4857-8c81-14fcf60971c7\",\"type\":\"GlyphRenderer\"},{\"id\":\"97bfa041-eab3-4e76-bd68-d5d0d35f86d6\",\"type\":\"GlyphRenderer\"},{\"id\":\"e78410b0-632c-4008-9580-1515f197c44c\",\"type\":\"GlyphRenderer\"},{\"id\":\"ac4f9257-03a2-49ed-acdc-05c8d40c25f5\",\"type\":\"Legend\"},{\"id\":\"0d23b916-a46c-47cd-87ef-379ccf44cb1a\",\"type\":\"LinearAxis\"},{\"id\":\"d3c1112d-af4f-475a-9e25-57af4be5558c\",\"type\":\"LinearAxis\"},{\"id\":\"7fc85ea3-606a-49b7-b0c1-a1dce0efcd34\",\"type\":\"Grid\"}],\"title\":{\"id\":\"8cd48a12-56ba-47ef-820b-dfe5f8fc2493\",\"type\":\"Title\"},\"tool_events\":{\"id\":\"7bfa91a1-6c0a-439f-9115-2d771a4e9495\",\"type\":\"ToolEvents\"},\"toolbar\":{\"id\":\"5335b551-20fe-41b1-847d-db4d730467d3\",\"type\":\"Toolbar\"},\"x_range\":{\"id\":\"ac3be1c4-3f55-47cb-ab50-da5eb6c11b0d\",\"type\":\"Range1d\"},\"x_scale\":{\"id\":\"66d81b4f-cbbc-4022-9aae-d14468369b58\",\"type\":\"LinearScale\"},\"y_range\":{\"id\":\"32957254-66bc-4e12-beae-a65b8d47ae95\",\"type\":\"Range1d\"},\"y_scale\":{\"id\":\"33c5d3dc-d1f2-44e5-8a43-5e3802c1a25a\",\"type\":\"LinearScale\"}},\"id\":\"7b164060-3a0d-485d-b96e-60dbb159c7fb\",\"subtype\":\"Chart\",\"type\":\"Plot\"},{\"attributes\":{\"callback\":null,\"column_names\":[\"line_color\",\"fill_alpha\",\"y\",\"width\",\"label\",\"height\",\"color\",\"x\",\"line_alpha\"],\"data\":{\"chart_index\":[\"(1.675000, 1.750000]\"],\"color\":[\"#f22c40\"],\"fill_alpha\":[0.6],\"height\":[4.0],\"label\":[\"(1.675000, 1.750000]\"],\"line_alpha\":[1.0],\"line_color\":[\"black\"],\"width\":[0.07500000000000018],\"x\":[\"1.7125\"],\"y\":[2.0]}},\"id\":\"958be305-1ac9-4455-8e6c-2126c116a839\",\"type\":\"ColumnDataSource\"},{\"attributes\":{\"fill_alpha\":{\"field\":\"fill_alpha\"},\"fill_color\":{\"field\":\"color\"},\"height\":{\"field\":\"height\",\"units\":\"data\"},\"line_color\":{\"field\":\"line_color\"},\"width\":{\"field\":\"width\",\"units\":\"data\"},\"x\":{\"field\":\"x\"},\"y\":{\"field\":\"y\"}},\"id\":\"7631b95b-c670-44e0-ae45-bd4bc3069e45\",\"type\":\"Rect\"},{\"attributes\":{\"data_source\":{\"id\":\"5cff1e8c-e7a3-411b-9ee5-6834b1483cc8\",\"type\":\"ColumnDataSource\"},\"glyph\":{\"id\":\"b4a4f817-42b1-44c7-b1b8-42274e284042\",\"type\":\"Rect\"},\"hover_glyph\":null,\"muted_glyph\":null},\"id\":\"8717cebf-c39c-42ba-9fa0-5e8279168e95\",\"type\":\"GlyphRenderer\"},{\"attributes\":{\"fill_alpha\":{\"field\":\"fill_alpha\"},\"fill_color\":{\"field\":\"color\"},\"height\":{\"field\":\"height\",\"units\":\"data\"},\"line_color\":{\"field\":\"line_color\"},\"width\":{\"field\":\"width\",\"units\":\"data\"},\"x\":{\"field\":\"x\"},\"y\":{\"field\":\"y\"}},\"id\":\"b4a4f817-42b1-44c7-b1b8-42274e284042\",\"type\":\"Rect\"},{\"attributes\":{\"callback\":null,\"column_names\":[\"line_color\",\"fill_alpha\",\"y\",\"width\",\"label\",\"height\",\"color\",\"x\",\"line_alpha\"],\"data\":{\"chart_index\":[\"(3.875000, 4.050000]\"],\"color\":[\"#5ab738\"],\"fill_alpha\":[0.6],\"height\":[8.0],\"label\":[\"(3.875000, 4.050000]\"],\"line_alpha\":[1.0],\"line_color\":[\"black\"],\"width\":[0.17499999999999982],\"x\":[\"3.9625\"],\"y\":[4.0]}},\"id\":\"c5490bb4-3d9a-40bb-a383-8b3c62e6100f\",\"type\":\"ColumnDataSource\"},{\"attributes\":{\"fill_alpha\":{\"field\":\"fill_alpha\"},\"fill_color\":{\"field\":\"color\"},\"height\":{\"field\":\"height\",\"units\":\"data\"},\"line_color\":{\"field\":\"line_color\"},\"width\":{\"field\":\"width\",\"units\":\"data\"},\"x\":{\"field\":\"x\"},\"y\":{\"field\":\"y\"}},\"id\":\"c3b2a125-996d-4948-b99e-968472be1bf1\",\"type\":\"Rect\"},{\"attributes\":{\"fill_alpha\":{\"field\":\"fill_alpha\"},\"fill_color\":{\"field\":\"color\"},\"height\":{\"field\":\"height\",\"units\":\"data\"},\"line_color\":{\"field\":\"line_color\"},\"width\":{\"field\":\"width\",\"units\":\"data\"},\"x\":{\"field\":\"x\"},\"y\":{\"field\":\"y\"}},\"id\":\"653bf7ad-0547-46c6-aa5e-56d2b3a60322\",\"type\":\"Rect\"},{\"attributes\":{\"plot\":{\"id\":\"7b164060-3a0d-485d-b96e-60dbb159c7fb\",\"subtype\":\"Chart\",\"type\":\"Plot\"}},\"id\":\"748ac23f-22f0-4ac8-8713-e103223eb77b\",\"type\":\"SaveTool\"},{\"attributes\":{\"data_source\":{\"id\":\"50c08f21-f472-4e0e-8140-a85512c0ccf6\",\"type\":\"ColumnDataSource\"},\"glyph\":{\"id\":\"e32ad8be-f46b-40f1-a192-ca47a6563c65\",\"type\":\"Rect\"},\"hover_glyph\":null,\"muted_glyph\":null},\"id\":\"365ac017-1caa-476e-b4c6-d66ff947567c\",\"type\":\"GlyphRenderer\"},{\"attributes\":{\"data_source\":{\"id\":\"fde7a180-2c43-4bba-acd0-20126001f31c\",\"type\":\"ColumnDataSource\"},\"glyph\":{\"id\":\"82bcc055-9e88-4fbb-bdb9-90815a5a7065\",\"type\":\"Rect\"},\"hover_glyph\":null,\"muted_glyph\":null},\"id\":\"927e7a20-63e3-4293-a987-edb66c140bb7\",\"type\":\"GlyphRenderer\"},{\"attributes\":{\"callback\":null,\"column_names\":[\"line_color\",\"fill_alpha\",\"y\",\"width\",\"label\",\"height\",\"color\",\"x\",\"line_alpha\"],\"data\":{\"chart_index\":[\"(3.175000, 3.350000]\"],\"color\":[\"#5ab738\"],\"fill_alpha\":[0.6],\"height\":[2.0],\"label\":[\"(3.175000, 3.350000]\"],\"line_alpha\":[1.0],\"line_color\":[\"black\"],\"width\":[0.17500000000000027],\"x\":[\"3.2625\"],\"y\":[1.0]}},\"id\":\"d31aada1-c463-45e8-9a01-20be2ad1e5a5\",\"type\":\"ColumnDataSource\"},{\"attributes\":{},\"id\":\"bed85ce2-2baf-4ce0-8218-1ed788d24d64\",\"type\":\"BasicTickFormatter\"},{\"attributes\":{\"callback\":null,\"column_names\":[\"line_color\",\"fill_alpha\",\"y\",\"width\",\"label\",\"height\",\"color\",\"x\",\"line_alpha\"],\"data\":{\"chart_index\":[\"[1.000000, 1.075000]\"],\"color\":[\"#f22c40\"],\"fill_alpha\":[0.6],\"height\":[1.0],\"label\":[\"[1.000000, 1.075000]\"],\"line_alpha\":[1.0],\"line_color\":[\"black\"],\"width\":[0.07499999999999996],\"x\":[\"1.0375\"],\"y\":[0.5]}},\"id\":\"aae1c1af-9fb4-4afd-9026-870c8cd6bce1\",\"type\":\"ColumnDataSource\"},{\"attributes\":{\"callback\":null,\"column_names\":[\"line_color\",\"fill_alpha\",\"y\",\"width\",\"label\",\"height\",\"color\",\"x\",\"line_alpha\"],\"data\":{\"chart_index\":[\"(6.300000, 6.500000]\"],\"color\":[\"#407ee7\"],\"fill_alpha\":[0.6],\"height\":[1.0],\"label\":[\"(6.300000, 6.500000]\"],\"line_alpha\":[1.0],\"line_color\":[\"black\"],\"width\":[0.1999999999999993],\"x\":[\"6.4\"],\"y\":[0.5]}},\"id\":\"6982007f-eb1a-49a1-9793-5c47f7bae34b\",\"type\":\"ColumnDataSource\"},{\"attributes\":{\"fill_alpha\":{\"field\":\"fill_alpha\"},\"fill_color\":{\"field\":\"color\"},\"height\":{\"field\":\"height\",\"units\":\"data\"},\"line_color\":{\"field\":\"line_color\"},\"width\":{\"field\":\"width\",\"units\":\"data\"},\"x\":{\"field\":\"x\"},\"y\":{\"field\":\"y\"}},\"id\":\"e262639f-654b-468d-8407-8eabfef79cb1\",\"type\":\"Rect\"},{\"attributes\":{\"fill_alpha\":{\"field\":\"fill_alpha\"},\"fill_color\":{\"field\":\"color\"},\"height\":{\"field\":\"height\",\"units\":\"data\"},\"line_color\":{\"field\":\"line_color\"},\"width\":{\"field\":\"width\",\"units\":\"data\"},\"x\":{\"field\":\"x\"},\"y\":{\"field\":\"y\"}},\"id\":\"2c057cad-40e1-456f-ab4a-7bb82a80811f\",\"type\":\"Rect\"},{\"attributes\":{\"fill_alpha\":{\"field\":\"fill_alpha\"},\"fill_color\":{\"field\":\"color\"},\"height\":{\"field\":\"height\",\"units\":\"data\"},\"line_color\":{\"field\":\"line_color\"},\"width\":{\"field\":\"width\",\"units\":\"data\"},\"x\":{\"field\":\"x\"},\"y\":{\"field\":\"y\"}},\"id\":\"bb60f147-11f2-477a-9390-84e303c0b18d\",\"type\":\"Rect\"},{\"attributes\":{\"dimension\":1,\"plot\":{\"id\":\"7b164060-3a0d-485d-b96e-60dbb159c7fb\",\"subtype\":\"Chart\",\"type\":\"Plot\"},\"ticker\":{\"id\":\"617831f4-c0ce-4ecf-a78e-b6583f51ed58\",\"type\":\"BasicTicker\"}},\"id\":\"7fc85ea3-606a-49b7-b0c1-a1dce0efcd34\",\"type\":\"Grid\"},{\"attributes\":{\"fill_alpha\":{\"field\":\"fill_alpha\"},\"fill_color\":{\"field\":\"color\"},\"height\":{\"field\":\"height\",\"units\":\"data\"},\"line_color\":{\"field\":\"line_color\"},\"width\":{\"field\":\"width\",\"units\":\"data\"},\"x\":{\"field\":\"x\"},\"y\":{\"field\":\"y\"}},\"id\":\"9d5ccb55-ecf3-4d4b-bd79-7b47844ea2d1\",\"type\":\"Rect\"},{\"attributes\":{\"axis_label\":\"petal_length\",\"formatter\":{\"id\":\"bed85ce2-2baf-4ce0-8218-1ed788d24d64\",\"type\":\"BasicTickFormatter\"},\"plot\":{\"id\":\"7b164060-3a0d-485d-b96e-60dbb159c7fb\",\"subtype\":\"Chart\",\"type\":\"Plot\"},\"ticker\":{\"id\":\"72f475d6-cc95-4e6f-80f1-928e2d2dbbca\",\"type\":\"BasicTicker\"}},\"id\":\"0d23b916-a46c-47cd-87ef-379ccf44cb1a\",\"type\":\"LinearAxis\"},{\"attributes\":{\"data_source\":{\"id\":\"6dbd2bdb-d277-471e-8bbe-e31bc4ac08a7\",\"type\":\"ColumnDataSource\"},\"glyph\":{\"id\":\"1e285c1d-f1d7-497f-89d6-e9cd65e4c1fa\",\"type\":\"Rect\"},\"hover_glyph\":null,\"muted_glyph\":null},\"id\":\"97bfa041-eab3-4e76-bd68-d5d0d35f86d6\",\"type\":\"GlyphRenderer\"},{\"attributes\":{\"fill_alpha\":{\"field\":\"fill_alpha\"},\"fill_color\":{\"field\":\"color\"},\"height\":{\"field\":\"height\",\"units\":\"data\"},\"line_color\":{\"field\":\"line_color\"},\"width\":{\"field\":\"width\",\"units\":\"data\"},\"x\":{\"field\":\"x\"},\"y\":{\"field\":\"y\"}},\"id\":\"519be9f4-2732-4c87-8ad4-4354558b3de6\",\"type\":\"Rect\"},{\"attributes\":{\"callback\":null,\"column_names\":[\"line_color\",\"fill_alpha\",\"y\",\"width\",\"label\",\"height\",\"color\",\"x\",\"line_alpha\"],\"data\":{\"chart_index\":[\"(1.300000, 1.375000]\"],\"color\":[\"#f22c40\"],\"fill_alpha\":[0.6],\"height\":[7.0],\"label\":[\"(1.300000, 1.375000]\"],\"line_alpha\":[1.0],\"line_color\":[\"black\"],\"width\":[0.07499999999999996],\"x\":[\"1.3375\"],\"y\":[3.5]}},\"id\":\"1c7a50d7-5db6-4c9b-ac25-e1085944c970\",\"type\":\"ColumnDataSource\"},{\"attributes\":{\"fill_alpha\":{\"field\":\"fill_alpha\"},\"fill_color\":{\"field\":\"color\"},\"height\":{\"field\":\"height\",\"units\":\"data\"},\"line_color\":{\"field\":\"line_color\"},\"width\":{\"field\":\"width\",\"units\":\"data\"},\"x\":{\"field\":\"x\"},\"y\":{\"field\":\"y\"}},\"id\":\"9f3716dc-977b-4870-a5f1-45a5c4f889f4\",\"type\":\"Rect\"},{\"attributes\":{\"data_source\":{\"id\":\"b33d8933-f830-422d-b5dc-6fe205fff4e0\",\"type\":\"ColumnDataSource\"},\"glyph\":{\"id\":\"2c057cad-40e1-456f-ab4a-7bb82a80811f\",\"type\":\"Rect\"},\"hover_glyph\":null,\"muted_glyph\":null},\"id\":\"79eb683e-0b8f-4b91-aca7-a3bf2f4cb458\",\"type\":\"GlyphRenderer\"},{\"attributes\":{\"data_source\":{\"id\":\"befffc55-34f4-48ce-91e4-25fafb659c32\",\"type\":\"ColumnDataSource\"},\"glyph\":{\"id\":\"bb60f147-11f2-477a-9390-84e303c0b18d\",\"type\":\"Rect\"},\"hover_glyph\":null,\"muted_glyph\":null},\"id\":\"617ca987-e695-4272-b1ed-88a5607078ac\",\"type\":\"GlyphRenderer\"},{\"attributes\":{\"callback\":null,\"column_names\":[\"line_color\",\"fill_alpha\",\"y\",\"width\",\"label\",\"height\",\"color\",\"x\",\"line_alpha\"],\"data\":{\"chart_index\":[\"[4.500000, 4.700000]\"],\"color\":[\"#407ee7\"],\"fill_alpha\":[0.6],\"height\":[1.0],\"label\":[\"[4.500000, 4.700000]\"],\"line_alpha\":[1.0],\"line_color\":[\"black\"],\"width\":[0.20000000000000018],\"x\":[\"4.6\"],\"y\":[0.5]}},\"id\":\"521ad31a-e4b6-48b3-86a2-540ed9b9d8bf\",\"type\":\"ColumnDataSource\"},{\"attributes\":{\"label\":{\"value\":\"versicolor\"},\"renderers\":[{\"id\":\"d6f206cd-0e3e-48d9-93b7-906d8237840d\",\"type\":\"GlyphRenderer\"},{\"id\":\"3ee23330-a747-4aa7-a6d7-931bc1025229\",\"type\":\"GlyphRenderer\"},{\"id\":\"10af1f70-754f-4cd4-9989-e4f79ed93ebe\",\"type\":\"GlyphRenderer\"},{\"id\":\"048d8253-2a61-4ed5-9a1d-34ff9de2b49b\",\"type\":\"GlyphRenderer\"},{\"id\":\"23505123-6817-4a13-8252-aa54bee099a5\",\"type\":\"GlyphRenderer\"},{\"id\":\"59bac17b-4262-4e16-9eef-0774d6334f15\",\"type\":\"GlyphRenderer\"},{\"id\":\"afaea843-14a0-4779-84d1-c7902d23a16f\",\"type\":\"GlyphRenderer\"},{\"id\":\"b8c32b09-7968-4956-ada2-fd70b8617911\",\"type\":\"GlyphRenderer\"},{\"id\":\"e28b86f6-e1ff-40cd-845f-5a36a30e3854\",\"type\":\"GlyphRenderer\"},{\"id\":\"5e07fbf5-2c13-450b-9f7a-a65dd576a943\",\"type\":\"GlyphRenderer\"},{\"id\":\"617ca987-e695-4272-b1ed-88a5607078ac\",\"type\":\"GlyphRenderer\"},{\"id\":\"fd59bb28-77f9-4a87-9d13-347612431829\",\"type\":\"GlyphRenderer\"}]},\"id\":\"313bf9ff-9b14-4910-afcf-0617ad2d1e42\",\"type\":\"LegendItem\"},{\"attributes\":{},\"id\":\"72f475d6-cc95-4e6f-80f1-928e2d2dbbca\",\"type\":\"BasicTicker\"},{\"attributes\":{\"data_source\":{\"id\":\"521ad31a-e4b6-48b3-86a2-540ed9b9d8bf\",\"type\":\"ColumnDataSource\"},\"glyph\":{\"id\":\"9f3716dc-977b-4870-a5f1-45a5c4f889f4\",\"type\":\"Rect\"},\"hover_glyph\":null,\"muted_glyph\":null},\"id\":\"3b45eb5f-4da9-4bb6-8c03-1569891334e2\",\"type\":\"GlyphRenderer\"},{\"attributes\":{\"fill_alpha\":{\"field\":\"fill_alpha\"},\"fill_color\":{\"field\":\"color\"},\"height\":{\"field\":\"height\",\"units\":\"data\"},\"line_color\":{\"field\":\"line_color\"},\"width\":{\"field\":\"width\",\"units\":\"data\"},\"x\":{\"field\":\"x\"},\"y\":{\"field\":\"y\"}},\"id\":\"7b8f40c6-2472-4f36-bf20-9c1b03a9ff2f\",\"type\":\"Rect\"},{\"attributes\":{\"data_source\":{\"id\":\"363ac554-357d-4c52-811f-ca376a9599c3\",\"type\":\"ColumnDataSource\"},\"glyph\":{\"id\":\"7c63e02e-1481-49e6-a7ae-2164b869fecc\",\"type\":\"Rect\"},\"hover_glyph\":null,\"muted_glyph\":null},\"id\":\"b8c32b09-7968-4956-ada2-fd70b8617911\",\"type\":\"GlyphRenderer\"},{\"attributes\":{\"fill_alpha\":{\"field\":\"fill_alpha\"},\"fill_color\":{\"field\":\"color\"},\"height\":{\"field\":\"height\",\"units\":\"data\"},\"line_color\":{\"field\":\"line_color\"},\"width\":{\"field\":\"width\",\"units\":\"data\"},\"x\":{\"field\":\"x\"},\"y\":{\"field\":\"y\"}},\"id\":\"76de83e3-dd61-4dd3-8976-2b3268bbbd5a\",\"type\":\"Rect\"},{\"attributes\":{\"data_source\":{\"id\":\"d31aada1-c463-45e8-9a01-20be2ad1e5a5\",\"type\":\"ColumnDataSource\"},\"glyph\":{\"id\":\"76de83e3-dd61-4dd3-8976-2b3268bbbd5a\",\"type\":\"Rect\"},\"hover_glyph\":null,\"muted_glyph\":null},\"id\":\"3ee23330-a747-4aa7-a6d7-931bc1025229\",\"type\":\"GlyphRenderer\"},{\"attributes\":{\"data_source\":{\"id\":\"09b4e2ef-44cc-4292-b6d2-79a705094155\",\"type\":\"ColumnDataSource\"},\"glyph\":{\"id\":\"79dfd3a9-ec19-4027-a361-f21ac186212d\",\"type\":\"Rect\"},\"hover_glyph\":null,\"muted_glyph\":null},\"id\":\"afaea843-14a0-4779-84d1-c7902d23a16f\",\"type\":\"GlyphRenderer\"},{\"attributes\":{\"fill_alpha\":{\"field\":\"fill_alpha\"},\"fill_color\":{\"field\":\"color\"},\"height\":{\"field\":\"height\",\"units\":\"data\"},\"line_color\":{\"field\":\"line_color\"},\"width\":{\"field\":\"width\",\"units\":\"data\"},\"x\":{\"field\":\"x\"},\"y\":{\"field\":\"y\"}},\"id\":\"2cc1de5f-7c90-4b17-bb57-e8eae7dcf5c6\",\"type\":\"Rect\"},{\"attributes\":{\"items\":[{\"id\":\"975edd55-1115-4432-aefa-b32aee73931b\",\"type\":\"LegendItem\"},{\"id\":\"313bf9ff-9b14-4910-afcf-0617ad2d1e42\",\"type\":\"LegendItem\"},{\"id\":\"ea83d1a7-ce9e-4fca-9cec-3aa8c7f019c9\",\"type\":\"LegendItem\"}],\"plot\":{\"id\":\"7b164060-3a0d-485d-b96e-60dbb159c7fb\",\"subtype\":\"Chart\",\"type\":\"Plot\"}},\"id\":\"ac4f9257-03a2-49ed-acdc-05c8d40c25f5\",\"type\":\"Legend\"},{\"attributes\":{\"callback\":null,\"column_names\":[\"line_color\",\"fill_alpha\",\"y\",\"width\",\"label\",\"height\",\"color\",\"x\",\"line_alpha\"],\"data\":{\"chart_index\":[\"(4.050000, 4.225000]\"],\"color\":[\"#5ab738\"],\"fill_alpha\":[0.6],\"height\":[7.0],\"label\":[\"(4.050000, 4.225000]\"],\"line_alpha\":[1.0],\"line_color\":[\"black\"],\"width\":[0.17499999999999982],\"x\":[\"4.137499999999999\"],\"y\":[3.5]}},\"id\":\"09b4e2ef-44cc-4292-b6d2-79a705094155\",\"type\":\"ColumnDataSource\"},{\"attributes\":{\"data_source\":{\"id\":\"0556a0d5-3232-4405-9156-eff6ca9cdb5d\",\"type\":\"ColumnDataSource\"},\"glyph\":{\"id\":\"deb4f523-dbf1-4aef-972b-e3549498da52\",\"type\":\"Rect\"},\"hover_glyph\":null,\"muted_glyph\":null},\"id\":\"23505123-6817-4a13-8252-aa54bee099a5\",\"type\":\"GlyphRenderer\"},{\"attributes\":{\"data_source\":{\"id\":\"189d3ecf-d440-4e84-8ab0-42206e01d344\",\"type\":\"ColumnDataSource\"},\"glyph\":{\"id\":\"519be9f4-2732-4c87-8ad4-4354558b3de6\",\"type\":\"Rect\"},\"hover_glyph\":null,\"muted_glyph\":null},\"id\":\"14dc95da-0d77-4152-9fb2-9a2a3e71eace\",\"type\":\"GlyphRenderer\"},{\"attributes\":{\"data_source\":{\"id\":\"b4a8b5e8-6aba-4f47-8254-dc71b52dd9e3\",\"type\":\"ColumnDataSource\"},\"glyph\":{\"id\":\"2cc1de5f-7c90-4b17-bb57-e8eae7dcf5c6\",\"type\":\"Rect\"},\"hover_glyph\":null,\"muted_glyph\":null},\"id\":\"5e07fbf5-2c13-450b-9f7a-a65dd576a943\",\"type\":\"GlyphRenderer\"},{\"attributes\":{\"fill_alpha\":{\"field\":\"fill_alpha\"},\"fill_color\":{\"field\":\"color\"},\"height\":{\"field\":\"height\",\"units\":\"data\"},\"line_color\":{\"field\":\"line_color\"},\"width\":{\"field\":\"width\",\"units\":\"data\"},\"x\":{\"field\":\"x\"},\"y\":{\"field\":\"y\"}},\"id\":\"63bd0608-0b9c-465a-88a1-2ee18e391aa2\",\"type\":\"Rect\"},{\"attributes\":{\"fill_alpha\":{\"field\":\"fill_alpha\"},\"fill_color\":{\"field\":\"color\"},\"height\":{\"field\":\"height\",\"units\":\"data\"},\"line_color\":{\"field\":\"line_color\"},\"width\":{\"field\":\"width\",\"units\":\"data\"},\"x\":{\"field\":\"x\"},\"y\":{\"field\":\"y\"}},\"id\":\"cee0d1cf-8b06-4870-9b5b-265fc920b30c\",\"type\":\"Rect\"},{\"attributes\":{},\"id\":\"617831f4-c0ce-4ecf-a78e-b6583f51ed58\",\"type\":\"BasicTicker\"},{\"attributes\":{},\"id\":\"66d81b4f-cbbc-4022-9aae-d14468369b58\",\"type\":\"LinearScale\"},{\"attributes\":{\"fill_alpha\":{\"field\":\"fill_alpha\"},\"fill_color\":{\"field\":\"color\"},\"height\":{\"field\":\"height\",\"units\":\"data\"},\"line_color\":{\"field\":\"line_color\"},\"width\":{\"field\":\"width\",\"units\":\"data\"},\"x\":{\"field\":\"x\"},\"y\":{\"field\":\"y\"}},\"id\":\"1e285c1d-f1d7-497f-89d6-e9cd65e4c1fa\",\"type\":\"Rect\"},{\"attributes\":{\"data_source\":{\"id\":\"3f70fce8-3185-478b-8251-4722d22fa99d\",\"type\":\"ColumnDataSource\"},\"glyph\":{\"id\":\"7b8f40c6-2472-4f36-bf20-9c1b03a9ff2f\",\"type\":\"Rect\"},\"hover_glyph\":null,\"muted_glyph\":null},\"id\":\"fd59bb28-77f9-4a87-9d13-347612431829\",\"type\":\"GlyphRenderer\"},{\"attributes\":{\"fill_alpha\":{\"field\":\"fill_alpha\"},\"fill_color\":{\"field\":\"color\"},\"height\":{\"field\":\"height\",\"units\":\"data\"},\"line_color\":{\"field\":\"line_color\"},\"width\":{\"field\":\"width\",\"units\":\"data\"},\"x\":{\"field\":\"x\"},\"y\":{\"field\":\"y\"}},\"id\":\"3e67f77d-8652-4abd-a5d1-bc40a323db98\",\"type\":\"Rect\"},{\"attributes\":{\"data_source\":{\"id\":\"64be4143-bf28-4584-8ab7-3aa29f178fec\",\"type\":\"ColumnDataSource\"},\"glyph\":{\"id\":\"aea681eb-3730-4cfb-8ee5-03505289fad5\",\"type\":\"Rect\"},\"hover_glyph\":null,\"muted_glyph\":null},\"id\":\"60415589-154b-4dd8-aee8-44d3e73055f7\",\"type\":\"GlyphRenderer\"},{\"attributes\":{\"callback\":null,\"column_names\":[\"line_color\",\"fill_alpha\",\"y\",\"width\",\"label\",\"height\",\"color\",\"x\",\"line_alpha\"],\"data\":{\"chart_index\":[\"(5.100000, 5.300000]\"],\"color\":[\"#407ee7\"],\"fill_alpha\":[0.6],\"height\":[9.0],\"label\":[\"(5.100000, 5.300000]\"],\"line_alpha\":[1.0],\"line_color\":[\"black\"],\"width\":[0.20000000000000018],\"x\":[\"5.199999999999999\"],\"y\":[4.5]}},\"id\":\"64be4143-bf28-4584-8ab7-3aa29f178fec\",\"type\":\"ColumnDataSource\"},{\"attributes\":{\"bottom_units\":\"screen\",\"fill_alpha\":{\"value\":0.5},\"fill_color\":{\"value\":\"lightgrey\"},\"left_units\":\"screen\",\"level\":\"overlay\",\"line_alpha\":{\"value\":1.0},\"line_color\":{\"value\":\"black\"},\"line_dash\":[4,4],\"line_width\":{\"value\":2},\"plot\":null,\"render_mode\":\"css\",\"right_units\":\"screen\",\"top_units\":\"screen\"},\"id\":\"dcb9e246-0a36-4366-acc2-900d61b4999e\",\"type\":\"BoxAnnotation\"},{\"attributes\":{\"data_source\":{\"id\":\"3b725fb9-f8fd-4def-ba6e-cd13ad892605\",\"type\":\"ColumnDataSource\"},\"glyph\":{\"id\":\"3eb10437-1744-4faa-bce7-7177ff21d1c1\",\"type\":\"Rect\"},\"hover_glyph\":null,\"muted_glyph\":null},\"id\":\"86c6244f-ff02-4709-9e23-019eb2f2a003\",\"type\":\"GlyphRenderer\"},{\"attributes\":{\"data_source\":{\"id\":\"e8ea8b73-45b2-4ebd-86f1-dd9156ad23a5\",\"type\":\"ColumnDataSource\"},\"glyph\":{\"id\":\"13a18101-b63c-49d9-bfdc-b7ebfc4ffaec\",\"type\":\"Rect\"},\"hover_glyph\":null,\"muted_glyph\":null},\"id\":\"10af1f70-754f-4cd4-9989-e4f79ed93ebe\",\"type\":\"GlyphRenderer\"},{\"attributes\":{\"fill_alpha\":{\"field\":\"fill_alpha\"},\"fill_color\":{\"field\":\"color\"},\"height\":{\"field\":\"height\",\"units\":\"data\"},\"line_color\":{\"field\":\"line_color\"},\"width\":{\"field\":\"width\",\"units\":\"data\"},\"x\":{\"field\":\"x\"},\"y\":{\"field\":\"y\"}},\"id\":\"9a3e04ec-47f9-4663-b27d-442d8aa3fab2\",\"type\":\"Rect\"},{\"attributes\":{\"fill_alpha\":{\"field\":\"fill_alpha\"},\"fill_color\":{\"field\":\"color\"},\"height\":{\"field\":\"height\",\"units\":\"data\"},\"line_color\":{\"field\":\"line_color\"},\"width\":{\"field\":\"width\",\"units\":\"data\"},\"x\":{\"field\":\"x\"},\"y\":{\"field\":\"y\"}},\"id\":\"deb4f523-dbf1-4aef-972b-e3549498da52\",\"type\":\"Rect\"},{\"attributes\":{\"fill_alpha\":{\"field\":\"fill_alpha\"},\"fill_color\":{\"field\":\"color\"},\"height\":{\"field\":\"height\",\"units\":\"data\"},\"line_color\":{\"field\":\"line_color\"},\"width\":{\"field\":\"width\",\"units\":\"data\"},\"x\":{\"field\":\"x\"},\"y\":{\"field\":\"y\"}},\"id\":\"eca180a2-7ca6-4e3d-be7c-d0b54dcc4fd4\",\"type\":\"Rect\"},{\"attributes\":{\"callback\":null,\"column_names\":[\"line_color\",\"fill_alpha\",\"y\",\"width\",\"label\",\"height\",\"color\",\"x\",\"line_alpha\"],\"data\":{\"chart_index\":[\"[3.000000, 3.175000]\"],\"color\":[\"#5ab738\"],\"fill_alpha\":[0.6],\"height\":[1.0],\"label\":[\"[3.000000, 3.175000]\"],\"line_alpha\":[1.0],\"line_color\":[\"black\"],\"width\":[0.17499999999999982],\"x\":[\"3.0875\"],\"y\":[0.5]}},\"id\":\"7bcf937f-cd9d-48a1-a0f3-1acc0033bd41\",\"type\":\"ColumnDataSource\"},{\"attributes\":{},\"id\":\"55ceab0f-88bd-46f7-a87d-1763fb216797\",\"type\":\"BasicTickFormatter\"},{\"attributes\":{\"data_source\":{\"id\":\"6982007f-eb1a-49a1-9793-5c47f7bae34b\",\"type\":\"ColumnDataSource\"},\"glyph\":{\"id\":\"9a3e04ec-47f9-4663-b27d-442d8aa3fab2\",\"type\":\"Rect\"},\"hover_glyph\":null,\"muted_glyph\":null},\"id\":\"ac670538-2e82-4857-8c81-14fcf60971c7\",\"type\":\"GlyphRenderer\"},{\"attributes\":{\"fill_alpha\":{\"field\":\"fill_alpha\"},\"fill_color\":{\"field\":\"color\"},\"height\":{\"field\":\"height\",\"units\":\"data\"},\"line_color\":{\"field\":\"line_color\"},\"width\":{\"field\":\"width\",\"units\":\"data\"},\"x\":{\"field\":\"x\"},\"y\":{\"field\":\"y\"}},\"id\":\"e32ad8be-f46b-40f1-a192-ca47a6563c65\",\"type\":\"Rect\"},{\"attributes\":{\"plot\":{\"id\":\"7b164060-3a0d-485d-b96e-60dbb159c7fb\",\"subtype\":\"Chart\",\"type\":\"Plot\"}},\"id\":\"7f76fe37-b9cb-4868-a957-2c2c12bea165\",\"type\":\"PanTool\"},{\"attributes\":{},\"id\":\"33c5d3dc-d1f2-44e5-8a43-5e3802c1a25a\",\"type\":\"LinearScale\"},{\"attributes\":{\"data_source\":{\"id\":\"262c5ee6-11e7-4a9d-ab4e-9a477b38b7ad\",\"type\":\"ColumnDataSource\"},\"glyph\":{\"id\":\"fb935057-b940-4a6e-83ac-d417f5981f91\",\"type\":\"Rect\"},\"hover_glyph\":null,\"muted_glyph\":null},\"id\":\"44689068-5cf2-496c-9136-1e7931277f1a\",\"type\":\"GlyphRenderer\"},{\"attributes\":{\"data_source\":{\"id\":\"2f534f79-8698-4835-ae39-ac43b7e8e503\",\"type\":\"ColumnDataSource\"},\"glyph\":{\"id\":\"cd3a888b-8ada-49bf-8bb4-2c6b62408c50\",\"type\":\"Rect\"},\"hover_glyph\":null,\"muted_glyph\":null},\"id\":\"e28b86f6-e1ff-40cd-845f-5a36a30e3854\",\"type\":\"GlyphRenderer\"},{\"attributes\":{\"active_drag\":\"auto\",\"active_inspect\":\"auto\",\"active_scroll\":\"auto\",\"active_tap\":\"auto\",\"tools\":[{\"id\":\"7f76fe37-b9cb-4868-a957-2c2c12bea165\",\"type\":\"PanTool\"},{\"id\":\"63c4a417-3470-4fe4-b086-6e7dc8560f61\",\"type\":\"WheelZoomTool\"},{\"id\":\"f9200c7b-5931-4c55-b599-19925fe1b7c1\",\"type\":\"BoxZoomTool\"},{\"id\":\"748ac23f-22f0-4ac8-8713-e103223eb77b\",\"type\":\"SaveTool\"},{\"id\":\"64fd1749-9b63-4a8d-8584-8023b82ddf65\",\"type\":\"ResetTool\"},{\"id\":\"33bf36ef-a620-4b5f-b23b-d8ac4b1b354b\",\"type\":\"HelpTool\"}]},\"id\":\"5335b551-20fe-41b1-847d-db4d730467d3\",\"type\":\"Toolbar\"},{\"attributes\":{\"callback\":null,\"column_names\":[\"line_color\",\"fill_alpha\",\"y\",\"width\",\"label\",\"height\",\"color\",\"x\",\"line_alpha\"],\"data\":{\"chart_index\":[\"(1.150000, 1.225000]\"],\"color\":[\"#f22c40\"],\"fill_alpha\":[0.6],\"height\":[2.0],\"label\":[\"(1.150000, 1.225000]\"],\"line_alpha\":[1.0],\"line_color\":[\"black\"],\"width\":[0.07500000000000018],\"x\":[\"1.1875\"],\"y\":[1.0]}},\"id\":\"b33d8933-f830-422d-b5dc-6fe205fff4e0\",\"type\":\"ColumnDataSource\"},{\"attributes\":{\"data_source\":{\"id\":\"40ba1640-1871-4991-be9f-ddf0a7a8675e\",\"type\":\"ColumnDataSource\"},\"glyph\":{\"id\":\"c3b2a125-996d-4948-b99e-968472be1bf1\",\"type\":\"Rect\"},\"hover_glyph\":null,\"muted_glyph\":null},\"id\":\"77d13a90-151a-426b-9b95-081e3be2aa40\",\"type\":\"GlyphRenderer\"},{\"attributes\":{\"data_source\":{\"id\":\"cd80684e-5db0-4320-aec1-cf72678255a9\",\"type\":\"ColumnDataSource\"},\"glyph\":{\"id\":\"9d5ccb55-ecf3-4d4b-bd79-7b47844ea2d1\",\"type\":\"Rect\"},\"hover_glyph\":null,\"muted_glyph\":null},\"id\":\"e543fa96-318e-4eb3-87af-79bfec83bc72\",\"type\":\"GlyphRenderer\"},{\"attributes\":{\"callback\":null,\"column_names\":[\"line_color\",\"fill_alpha\",\"y\",\"width\",\"label\",\"height\",\"color\",\"x\",\"line_alpha\"],\"data\":{\"chart_index\":[\"(4.400000, 4.575000]\"],\"color\":[\"#5ab738\"],\"fill_alpha\":[0.6],\"height\":[11.0],\"label\":[\"(4.400000, 4.575000]\"],\"line_alpha\":[1.0],\"line_color\":[\"black\"],\"width\":[0.17499999999999982],\"x\":[\"4.487500000000001\"],\"y\":[5.5]}},\"id\":\"2f534f79-8698-4835-ae39-ac43b7e8e503\",\"type\":\"ColumnDataSource\"},{\"attributes\":{\"fill_alpha\":{\"field\":\"fill_alpha\"},\"fill_color\":{\"field\":\"color\"},\"height\":{\"field\":\"height\",\"units\":\"data\"},\"line_color\":{\"field\":\"line_color\"},\"width\":{\"field\":\"width\",\"units\":\"data\"},\"x\":{\"field\":\"x\"},\"y\":{\"field\":\"y\"}},\"id\":\"7c63e02e-1481-49e6-a7ae-2164b869fecc\",\"type\":\"Rect\"},{\"attributes\":{\"data_source\":{\"id\":\"7bcf937f-cd9d-48a1-a0f3-1acc0033bd41\",\"type\":\"ColumnDataSource\"},\"glyph\":{\"id\":\"78bdbeae-3950-4a8a-9460-76863c8e3942\",\"type\":\"Rect\"},\"hover_glyph\":null,\"muted_glyph\":null},\"id\":\"d6f206cd-0e3e-48d9-93b7-906d8237840d\",\"type\":\"GlyphRenderer\"},{\"attributes\":{\"callback\":null,\"column_names\":[\"line_color\",\"fill_alpha\",\"y\",\"width\",\"label\",\"height\",\"color\",\"x\",\"line_alpha\"],\"data\":{\"chart_index\":[\"(5.900000, 6.100000]\"],\"color\":[\"#407ee7\"],\"fill_alpha\":[0.6],\"height\":[7.0],\"label\":[\"(5.900000, 6.100000]\"],\"line_alpha\":[1.0],\"line_color\":[\"black\"],\"width\":[0.20000000000000018],\"x\":[\"6.0\"],\"y\":[3.5]}},\"id\":\"40ba1640-1871-4991-be9f-ddf0a7a8675e\",\"type\":\"ColumnDataSource\"},{\"attributes\":{\"callback\":null,\"column_names\":[\"line_color\",\"fill_alpha\",\"y\",\"width\",\"label\",\"height\",\"color\",\"x\",\"line_alpha\"],\"data\":{\"chart_index\":[\"(4.225000, 4.400000]\"],\"color\":[\"#5ab738\"],\"fill_alpha\":[0.6],\"height\":[2.0],\"label\":[\"(4.225000, 4.400000]\"],\"line_alpha\":[1.0],\"line_color\":[\"black\"],\"width\":[0.17499999999999982],\"x\":[\"4.3125\"],\"y\":[1.0]}},\"id\":\"363ac554-357d-4c52-811f-ca376a9599c3\",\"type\":\"ColumnDataSource\"},{\"attributes\":{\"callback\":null,\"column_names\":[\"line_color\",\"fill_alpha\",\"y\",\"width\",\"label\",\"height\",\"color\",\"x\",\"line_alpha\"],\"data\":{\"chart_index\":[\"(1.375000, 1.450000]\"],\"color\":[\"#f22c40\"],\"fill_alpha\":[0.6],\"height\":[13.0],\"label\":[\"(1.375000, 1.450000]\"],\"line_alpha\":[1.0],\"line_color\":[\"black\"],\"width\":[0.07499999999999996],\"x\":[\"1.4125\"],\"y\":[6.5]}},\"id\":\"189d3ecf-d440-4e84-8ab0-42206e01d344\",\"type\":\"ColumnDataSource\"},{\"attributes\":{\"callback\":null,\"column_names\":[\"line_color\",\"fill_alpha\",\"y\",\"width\",\"label\",\"height\",\"color\",\"x\",\"line_alpha\"],\"data\":{\"chart_index\":[\"(3.700000, 3.875000]\"],\"color\":[\"#5ab738\"],\"fill_alpha\":[0.6],\"height\":[2.0],\"label\":[\"(3.700000, 3.875000]\"],\"line_alpha\":[1.0],\"line_color\":[\"black\"],\"width\":[0.17500000000000027],\"x\":[\"3.7875\"],\"y\":[1.0]}},\"id\":\"0556a0d5-3232-4405-9156-eff6ca9cdb5d\",\"type\":\"ColumnDataSource\"},{\"attributes\":{\"callback\":null,\"column_names\":[\"line_color\",\"fill_alpha\",\"y\",\"width\",\"label\",\"height\",\"color\",\"x\",\"line_alpha\"],\"data\":{\"chart_index\":[\"(1.600000, 1.675000]\"],\"color\":[\"#f22c40\"],\"fill_alpha\":[0.6],\"height\":[7.0],\"label\":[\"(1.600000, 1.675000]\"],\"line_alpha\":[1.0],\"line_color\":[\"black\"],\"width\":[0.07499999999999973],\"x\":[\"1.6375000000000002\"],\"y\":[3.5]}},\"id\":\"a916251a-59ef-4428-b8ab-aacb5f658206\",\"type\":\"ColumnDataSource\"},{\"attributes\":{\"data_source\":{\"id\":\"eef9a341-5735-40d3-b710-6e2b7b08e101\",\"type\":\"ColumnDataSource\"},\"glyph\":{\"id\":\"479a90ba-df37-4d84-a612-ac1eaedd7741\",\"type\":\"Rect\"},\"hover_glyph\":null,\"muted_glyph\":null},\"id\":\"e78410b0-632c-4008-9580-1515f197c44c\",\"type\":\"GlyphRenderer\"},{\"attributes\":{\"data_source\":{\"id\":\"8dac9e06-480c-418d-aba5-19ff26f5cc46\",\"type\":\"ColumnDataSource\"},\"glyph\":{\"id\":\"c569084d-81bf-4a20-a71e-51689bc40134\",\"type\":\"Rect\"},\"hover_glyph\":null,\"muted_glyph\":null},\"id\":\"048d8253-2a61-4ed5-9a1d-34ff9de2b49b\",\"type\":\"GlyphRenderer\"},{\"attributes\":{\"callback\":null,\"column_names\":[\"line_color\",\"fill_alpha\",\"y\",\"width\",\"label\",\"height\",\"color\",\"x\",\"line_alpha\"],\"data\":{\"chart_index\":[\"(4.900000, 5.100000]\"],\"color\":[\"#407ee7\"],\"fill_alpha\":[0.6],\"height\":[6.0],\"label\":[\"(4.900000, 5.100000]\"],\"line_alpha\":[1.0],\"line_color\":[\"black\"],\"width\":[0.1999999999999993],\"x\":[\"5.0\"],\"y\":[3.0]}},\"id\":\"102b0d8a-88b6-465a-bdae-f6e3a46825c7\",\"type\":\"ColumnDataSource\"},{\"attributes\":{\"plot\":{\"id\":\"7b164060-3a0d-485d-b96e-60dbb159c7fb\",\"subtype\":\"Chart\",\"type\":\"Plot\"}},\"id\":\"63c4a417-3470-4fe4-b086-6e7dc8560f61\",\"type\":\"WheelZoomTool\"},{\"attributes\":{\"axis_label\":\"Count( Petal_Length )\",\"formatter\":{\"id\":\"55ceab0f-88bd-46f7-a87d-1763fb216797\",\"type\":\"BasicTickFormatter\"},\"plot\":{\"id\":\"7b164060-3a0d-485d-b96e-60dbb159c7fb\",\"subtype\":\"Chart\",\"type\":\"Plot\"},\"ticker\":{\"id\":\"617831f4-c0ce-4ecf-a78e-b6583f51ed58\",\"type\":\"BasicTicker\"}},\"id\":\"d3c1112d-af4f-475a-9e25-57af4be5558c\",\"type\":\"LinearAxis\"},{\"attributes\":{\"fill_alpha\":{\"field\":\"fill_alpha\"},\"fill_color\":{\"field\":\"color\"},\"height\":{\"field\":\"height\",\"units\":\"data\"},\"line_color\":{\"field\":\"line_color\"},\"width\":{\"field\":\"width\",\"units\":\"data\"},\"x\":{\"field\":\"x\"},\"y\":{\"field\":\"y\"}},\"id\":\"79dfd3a9-ec19-4027-a361-f21ac186212d\",\"type\":\"Rect\"},{\"attributes\":{\"callback\":null,\"column_names\":[\"line_color\",\"fill_alpha\",\"y\",\"width\",\"label\",\"height\",\"color\",\"x\",\"line_alpha\"],\"data\":{\"chart_index\":[\"(4.925000, 5.100000]\"],\"color\":[\"#5ab738\"],\"fill_alpha\":[0.6],\"height\":[2.0],\"label\":[\"(4.925000, 5.100000]\"],\"line_alpha\":[1.0],\"line_color\":[\"black\"],\"width\":[0.17499999999999982],\"x\":[\"5.012499999999999\"],\"y\":[1.0]}},\"id\":\"3f70fce8-3185-478b-8251-4722d22fa99d\",\"type\":\"ColumnDataSource\"},{\"attributes\":{\"callback\":null,\"column_names\":[\"line_color\",\"fill_alpha\",\"y\",\"width\",\"label\",\"height\",\"color\",\"x\",\"line_alpha\"],\"data\":{\"chart_index\":[\"(4.575000, 4.750000]\"],\"color\":[\"#5ab738\"],\"fill_alpha\":[0.6],\"height\":[8.0],\"label\":[\"(4.575000, 4.750000]\"],\"line_alpha\":[1.0],\"line_color\":[\"black\"],\"width\":[0.1750000000000007],\"x\":[\"4.6625\"],\"y\":[4.0]}},\"id\":\"b4a8b5e8-6aba-4f47-8254-dc71b52dd9e3\",\"type\":\"ColumnDataSource\"},{\"attributes\":{\"data_source\":{\"id\":\"958be305-1ac9-4455-8e6c-2126c116a839\",\"type\":\"ColumnDataSource\"},\"glyph\":{\"id\":\"eca180a2-7ca6-4e3d-be7c-d0b54dcc4fd4\",\"type\":\"Rect\"},\"hover_glyph\":null,\"muted_glyph\":null},\"id\":\"344790bc-093d-4da5-965b-8392b85bd904\",\"type\":\"GlyphRenderer\"},{\"attributes\":{\"fill_alpha\":{\"field\":\"fill_alpha\"},\"fill_color\":{\"field\":\"color\"},\"height\":{\"field\":\"height\",\"units\":\"data\"},\"line_color\":{\"field\":\"line_color\"},\"width\":{\"field\":\"width\",\"units\":\"data\"},\"x\":{\"field\":\"x\"},\"y\":{\"field\":\"y\"}},\"id\":\"ff5ffb8d-0065-4f5a-bd5d-01e5cd44ccbc\",\"type\":\"Rect\"},{\"attributes\":{\"callback\":null,\"column_names\":[\"line_color\",\"fill_alpha\",\"y\",\"width\",\"label\",\"height\",\"color\",\"x\",\"line_alpha\"],\"data\":{\"chart_index\":[\"(5.700000, 5.900000]\"],\"color\":[\"#407ee7\"],\"fill_alpha\":[0.6],\"height\":[6.0],\"label\":[\"(5.700000, 5.900000]\"],\"line_alpha\":[1.0],\"line_color\":[\"black\"],\"width\":[0.20000000000000018],\"x\":[\"5.800000000000001\"],\"y\":[3.0]}},\"id\":\"cd80684e-5db0-4320-aec1-cf72678255a9\",\"type\":\"ColumnDataSource\"},{\"attributes\":{\"callback\":null,\"column_names\":[\"line_color\",\"fill_alpha\",\"y\",\"width\",\"label\",\"height\",\"color\",\"x\",\"line_alpha\"],\"data\":{\"chart_index\":[\"(3.350000, 3.525000]\"],\"color\":[\"#5ab738\"],\"fill_alpha\":[0.6],\"height\":[2.0],\"label\":[\"(3.350000, 3.525000]\"],\"line_alpha\":[1.0],\"line_color\":[\"black\"],\"width\":[0.17499999999999982],\"x\":[\"3.4375\"],\"y\":[1.0]}},\"id\":\"e8ea8b73-45b2-4ebd-86f1-dd9156ad23a5\",\"type\":\"ColumnDataSource\"},{\"attributes\":{\"fill_alpha\":{\"field\":\"fill_alpha\"},\"fill_color\":{\"field\":\"color\"},\"height\":{\"field\":\"height\",\"units\":\"data\"},\"line_color\":{\"field\":\"line_color\"},\"width\":{\"field\":\"width\",\"units\":\"data\"},\"x\":{\"field\":\"x\"},\"y\":{\"field\":\"y\"}},\"id\":\"3f0e9015-df07-483a-9412-ac08a927202f\",\"type\":\"Rect\"},{\"attributes\":{\"fill_alpha\":{\"field\":\"fill_alpha\"},\"fill_color\":{\"field\":\"color\"},\"height\":{\"field\":\"height\",\"units\":\"data\"},\"line_color\":{\"field\":\"line_color\"},\"width\":{\"field\":\"width\",\"units\":\"data\"},\"x\":{\"field\":\"x\"},\"y\":{\"field\":\"y\"}},\"id\":\"78bdbeae-3950-4a8a-9460-76863c8e3942\",\"type\":\"Rect\"},{\"attributes\":{\"overlay\":{\"id\":\"dcb9e246-0a36-4366-acc2-900d61b4999e\",\"type\":\"BoxAnnotation\"},\"plot\":{\"id\":\"7b164060-3a0d-485d-b96e-60dbb159c7fb\",\"subtype\":\"Chart\",\"type\":\"Plot\"}},\"id\":\"f9200c7b-5931-4c55-b599-19925fe1b7c1\",\"type\":\"BoxZoomTool\"},{\"attributes\":{\"data_source\":{\"id\":\"c5490bb4-3d9a-40bb-a383-8b3c62e6100f\",\"type\":\"ColumnDataSource\"},\"glyph\":{\"id\":\"e3fbe6ae-4c4f-48dd-a887-fd91dee29540\",\"type\":\"Rect\"},\"hover_glyph\":null,\"muted_glyph\":null},\"id\":\"59bac17b-4262-4e16-9eef-0774d6334f15\",\"type\":\"GlyphRenderer\"},{\"attributes\":{},\"id\":\"7bfa91a1-6c0a-439f-9115-2d771a4e9495\",\"type\":\"ToolEvents\"},{\"attributes\":{\"data_source\":{\"id\":\"9f75c410-4e1a-4ac5-9e9d-519e588d5003\",\"type\":\"ColumnDataSource\"},\"glyph\":{\"id\":\"3f0e9015-df07-483a-9412-ac08a927202f\",\"type\":\"Rect\"},\"hover_glyph\":null,\"muted_glyph\":null},\"id\":\"0ced112e-0610-4953-8e89-82b0d0c86d4b\",\"type\":\"GlyphRenderer\"},{\"attributes\":{\"callback\":null,\"column_names\":[\"line_color\",\"fill_alpha\",\"y\",\"width\",\"label\",\"height\",\"color\",\"x\",\"line_alpha\"],\"data\":{\"chart_index\":[\"(1.825000, 1.900000]\"],\"color\":[\"#f22c40\"],\"fill_alpha\":[0.6],\"height\":[2.0],\"label\":[\"(1.825000, 1.900000]\"],\"line_alpha\":[1.0],\"line_color\":[\"black\"],\"width\":[0.07499999999999996],\"x\":[\"1.8624999999999998\"],\"y\":[1.0]}},\"id\":\"5cff1e8c-e7a3-411b-9ee5-6834b1483cc8\",\"type\":\"ColumnDataSource\"},{\"attributes\":{\"data_source\":{\"id\":\"ece1e7ad-4a74-4cc0-9892-ba09c911f4dd\",\"type\":\"ColumnDataSource\"},\"glyph\":{\"id\":\"e262639f-654b-468d-8407-8eabfef79cb1\",\"type\":\"Rect\"},\"hover_glyph\":null,\"muted_glyph\":null},\"id\":\"4e8fcd76-0095-4372-b68a-4e722b453709\",\"type\":\"GlyphRenderer\"},{\"attributes\":{\"callback\":null,\"column_names\":[\"line_color\",\"fill_alpha\",\"y\",\"width\",\"label\",\"height\",\"color\",\"x\",\"line_alpha\"],\"data\":{\"chart_index\":[\"(6.700000, 6.900000]\"],\"color\":[\"#407ee7\"],\"fill_alpha\":[0.6],\"height\":[1.0],\"label\":[\"(6.700000, 6.900000]\"],\"line_alpha\":[1.0],\"line_color\":[\"black\"],\"width\":[0.1999999999999993],\"x\":[\"6.800000000000001\"],\"y\":[0.5]}},\"id\":\"eef9a341-5735-40d3-b710-6e2b7b08e101\",\"type\":\"ColumnDataSource\"},{\"attributes\":{\"data_source\":{\"id\":\"dfe5f082-583b-45c5-9e8e-7ffebac12096\",\"type\":\"ColumnDataSource\"},\"glyph\":{\"id\":\"7631b95b-c670-44e0-ae45-bd4bc3069e45\",\"type\":\"Rect\"},\"hover_glyph\":null,\"muted_glyph\":null},\"id\":\"e0776a6e-1ff4-44a3-9e08-0425a36faafa\",\"type\":\"GlyphRenderer\"},{\"attributes\":{\"plot\":{\"id\":\"7b164060-3a0d-485d-b96e-60dbb159c7fb\",\"subtype\":\"Chart\",\"type\":\"Plot\"}},\"id\":\"33bf36ef-a620-4b5f-b23b-d8ac4b1b354b\",\"type\":\"HelpTool\"},{\"attributes\":{\"plot\":null,\"text\":null},\"id\":\"8cd48a12-56ba-47ef-820b-dfe5f8fc2493\",\"type\":\"Title\"},{\"attributes\":{\"data_source\":{\"id\":\"ab9a7a9f-2321-4ad1-b49f-187ee25d2e83\",\"type\":\"ColumnDataSource\"},\"glyph\":{\"id\":\"63bd0608-0b9c-465a-88a1-2ee18e391aa2\",\"type\":\"Rect\"},\"hover_glyph\":null,\"muted_glyph\":null},\"id\":\"1c4dbc57-75d3-46c0-bb99-2893d1ec5091\",\"type\":\"GlyphRenderer\"},{\"attributes\":{\"callback\":null,\"column_names\":[\"line_color\",\"fill_alpha\",\"y\",\"width\",\"label\",\"height\",\"color\",\"x\",\"line_alpha\"],\"data\":{\"chart_index\":[\"(5.500000, 5.700000]\"],\"color\":[\"#407ee7\"],\"fill_alpha\":[0.6],\"height\":[9.0],\"label\":[\"(5.500000, 5.700000]\"],\"line_alpha\":[1.0],\"line_color\":[\"black\"],\"width\":[0.20000000000000018],\"x\":[\"5.6\"],\"y\":[4.5]}},\"id\":\"50c08f21-f472-4e0e-8140-a85512c0ccf6\",\"type\":\"ColumnDataSource\"},{\"attributes\":{\"callback\":null,\"column_names\":[\"line_color\",\"fill_alpha\",\"y\",\"width\",\"label\",\"height\",\"color\",\"x\",\"line_alpha\"],\"data\":{\"chart_index\":[\"(1.075000, 1.150000]\"],\"color\":[\"#f22c40\"],\"fill_alpha\":[0.6],\"height\":[1.0],\"label\":[\"(1.075000, 1.150000]\"],\"line_alpha\":[1.0],\"line_color\":[\"black\"],\"width\":[0.07499999999999996],\"x\":[\"1.1124999999999998\"],\"y\":[0.5]}},\"id\":\"fde7a180-2c43-4bba-acd0-20126001f31c\",\"type\":\"ColumnDataSource\"},{\"attributes\":{\"callback\":null,\"column_names\":[\"line_color\",\"fill_alpha\",\"y\",\"width\",\"label\",\"height\",\"color\",\"x\",\"line_alpha\"],\"data\":{\"chart_index\":[\"(1.525000, 1.600000]\"],\"color\":[\"#f22c40\"],\"fill_alpha\":[0.6],\"height\":[0.0],\"label\":[\"(1.525000, 1.600000]\"],\"line_alpha\":[1.0],\"line_color\":[\"black\"],\"width\":[0.07500000000000018],\"x\":[\"1.5625\"],\"y\":[0.0]}},\"id\":\"ece1e7ad-4a74-4cc0-9892-ba09c911f4dd\",\"type\":\"ColumnDataSource\"},{\"attributes\":{\"callback\":null,\"column_names\":[\"line_color\",\"fill_alpha\",\"y\",\"width\",\"label\",\"height\",\"color\",\"x\",\"line_alpha\"],\"data\":{\"chart_index\":[\"(3.525000, 3.700000]\"],\"color\":[\"#5ab738\"],\"fill_alpha\":[0.6],\"height\":[1.0],\"label\":[\"(3.525000, 3.700000]\"],\"line_alpha\":[1.0],\"line_color\":[\"black\"],\"width\":[0.17499999999999982],\"x\":[\"3.6125\"],\"y\":[0.5]}},\"id\":\"8dac9e06-480c-418d-aba5-19ff26f5cc46\",\"type\":\"ColumnDataSource\"},{\"attributes\":{\"callback\":null,\"column_names\":[\"line_color\",\"fill_alpha\",\"y\",\"width\",\"label\",\"height\",\"color\",\"x\",\"line_alpha\"],\"data\":{\"chart_index\":[\"(4.750000, 4.925000]\"],\"color\":[\"#5ab738\"],\"fill_alpha\":[0.6],\"height\":[4.0],\"label\":[\"(4.750000, 4.925000]\"],\"line_alpha\":[1.0],\"line_color\":[\"black\"],\"width\":[0.17499999999999982],\"x\":[\"4.8375\"],\"y\":[2.0]}},\"id\":\"befffc55-34f4-48ce-91e4-25fafb659c32\",\"type\":\"ColumnDataSource\"},{\"attributes\":{\"fill_alpha\":{\"field\":\"fill_alpha\"},\"fill_color\":{\"field\":\"color\"},\"height\":{\"field\":\"height\",\"units\":\"data\"},\"line_color\":{\"field\":\"line_color\"},\"width\":{\"field\":\"width\",\"units\":\"data\"},\"x\":{\"field\":\"x\"},\"y\":{\"field\":\"y\"}},\"id\":\"c569084d-81bf-4a20-a71e-51689bc40134\",\"type\":\"Rect\"},{\"attributes\":{\"callback\":null,\"column_names\":[\"line_color\",\"fill_alpha\",\"y\",\"width\",\"label\",\"height\",\"color\",\"x\",\"line_alpha\"],\"data\":{\"chart_index\":[\"(4.700000, 4.900000]\"],\"color\":[\"#407ee7\"],\"fill_alpha\":[0.6],\"height\":[2.0],\"label\":[\"(4.700000, 4.900000]\"],\"line_alpha\":[1.0],\"line_color\":[\"black\"],\"width\":[0.20000000000000018],\"x\":[\"4.800000000000001\"],\"y\":[1.0]}},\"id\":\"93e1c370-8d6c-442f-b790-e552812d8904\",\"type\":\"ColumnDataSource\"},{\"attributes\":{\"label\":{\"value\":\"setosa\"},\"renderers\":[{\"id\":\"ebf80775-4988-46f9-87a5-4f6b6fb2b58c\",\"type\":\"GlyphRenderer\"},{\"id\":\"927e7a20-63e3-4293-a987-edb66c140bb7\",\"type\":\"GlyphRenderer\"},{\"id\":\"79eb683e-0b8f-4b91-aca7-a3bf2f4cb458\",\"type\":\"GlyphRenderer\"},{\"id\":\"44689068-5cf2-496c-9136-1e7931277f1a\",\"type\":\"GlyphRenderer\"},{\"id\":\"56120882-f5c7-4ef0-8798-a40685d50a86\",\"type\":\"GlyphRenderer\"},{\"id\":\"14dc95da-0d77-4152-9fb2-9a2a3e71eace\",\"type\":\"GlyphRenderer\"},{\"id\":\"1c4dbc57-75d3-46c0-bb99-2893d1ec5091\",\"type\":\"GlyphRenderer\"},{\"id\":\"4e8fcd76-0095-4372-b68a-4e722b453709\",\"type\":\"GlyphRenderer\"},{\"id\":\"89503d45-bb31-46ac-94de-6d2552e52c2b\",\"type\":\"GlyphRenderer\"},{\"id\":\"344790bc-093d-4da5-965b-8392b85bd904\",\"type\":\"GlyphRenderer\"},{\"id\":\"86c6244f-ff02-4709-9e23-019eb2f2a003\",\"type\":\"GlyphRenderer\"},{\"id\":\"8717cebf-c39c-42ba-9fa0-5e8279168e95\",\"type\":\"GlyphRenderer\"}]},\"id\":\"975edd55-1115-4432-aefa-b32aee73931b\",\"type\":\"LegendItem\"},{\"attributes\":{\"data_source\":{\"id\":\"a916251a-59ef-4428-b8ab-aacb5f658206\",\"type\":\"ColumnDataSource\"},\"glyph\":{\"id\":\"653bf7ad-0547-46c6-aa5e-56d2b3a60322\",\"type\":\"Rect\"},\"hover_glyph\":null,\"muted_glyph\":null},\"id\":\"89503d45-bb31-46ac-94de-6d2552e52c2b\",\"type\":\"GlyphRenderer\"},{\"attributes\":{\"fill_alpha\":{\"field\":\"fill_alpha\"},\"fill_color\":{\"field\":\"color\"},\"height\":{\"field\":\"height\",\"units\":\"data\"},\"line_color\":{\"field\":\"line_color\"},\"width\":{\"field\":\"width\",\"units\":\"data\"},\"x\":{\"field\":\"x\"},\"y\":{\"field\":\"y\"}},\"id\":\"aea681eb-3730-4cfb-8ee5-03505289fad5\",\"type\":\"Rect\"},{\"attributes\":{\"fill_alpha\":{\"field\":\"fill_alpha\"},\"fill_color\":{\"field\":\"color\"},\"height\":{\"field\":\"height\",\"units\":\"data\"},\"line_color\":{\"field\":\"line_color\"},\"width\":{\"field\":\"width\",\"units\":\"data\"},\"x\":{\"field\":\"x\"},\"y\":{\"field\":\"y\"}},\"id\":\"3eb10437-1744-4faa-bce7-7177ff21d1c1\",\"type\":\"Rect\"},{\"attributes\":{\"data_source\":{\"id\":\"102b0d8a-88b6-465a-bdae-f6e3a46825c7\",\"type\":\"ColumnDataSource\"},\"glyph\":{\"id\":\"cee0d1cf-8b06-4870-9b5b-265fc920b30c\",\"type\":\"Rect\"},\"hover_glyph\":null,\"muted_glyph\":null},\"id\":\"9d4b1d8e-5ce3-4d43-9527-4f8e1198b5ff\",\"type\":\"GlyphRenderer\"},{\"attributes\":{\"callback\":null,\"column_names\":[\"line_color\",\"fill_alpha\",\"y\",\"width\",\"label\",\"height\",\"color\",\"x\",\"line_alpha\"],\"data\":{\"chart_index\":[\"(5.300000, 5.500000]\"],\"color\":[\"#407ee7\"],\"fill_alpha\":[0.6],\"height\":[4.0],\"label\":[\"(5.300000, 5.500000]\"],\"line_alpha\":[1.0],\"line_color\":[\"black\"],\"width\":[0.20000000000000018],\"x\":[\"5.4\"],\"y\":[2.0]}},\"id\":\"dfe5f082-583b-45c5-9e8e-7ffebac12096\",\"type\":\"ColumnDataSource\"},{\"attributes\":{\"data_source\":{\"id\":\"93e1c370-8d6c-442f-b790-e552812d8904\",\"type\":\"ColumnDataSource\"},\"glyph\":{\"id\":\"3e67f77d-8652-4abd-a5d1-bc40a323db98\",\"type\":\"Rect\"},\"hover_glyph\":null,\"muted_glyph\":null},\"id\":\"6ff9cd3c-8636-4180-925c-56d2cb470ee2\",\"type\":\"GlyphRenderer\"},{\"attributes\":{\"plot\":{\"id\":\"7b164060-3a0d-485d-b96e-60dbb159c7fb\",\"subtype\":\"Chart\",\"type\":\"Plot\"}},\"id\":\"64fd1749-9b63-4a8d-8584-8023b82ddf65\",\"type\":\"ResetTool\"},{\"attributes\":{\"fill_alpha\":{\"field\":\"fill_alpha\"},\"fill_color\":{\"field\":\"color\"},\"height\":{\"field\":\"height\",\"units\":\"data\"},\"line_color\":{\"field\":\"line_color\"},\"width\":{\"field\":\"width\",\"units\":\"data\"},\"x\":{\"field\":\"x\"},\"y\":{\"field\":\"y\"}},\"id\":\"915996f1-5fc6-4ab7-a64d-e569ba7dd19e\",\"type\":\"Rect\"},{\"attributes\":{\"fill_alpha\":{\"field\":\"fill_alpha\"},\"fill_color\":{\"field\":\"color\"},\"height\":{\"field\":\"height\",\"units\":\"data\"},\"line_color\":{\"field\":\"line_color\"},\"width\":{\"field\":\"width\",\"units\":\"data\"},\"x\":{\"field\":\"x\"},\"y\":{\"field\":\"y\"}},\"id\":\"cd3a888b-8ada-49bf-8bb4-2c6b62408c50\",\"type\":\"Rect\"},{\"attributes\":{\"callback\":null,\"column_names\":[\"line_color\",\"fill_alpha\",\"y\",\"width\",\"label\",\"height\",\"color\",\"x\",\"line_alpha\"],\"data\":{\"chart_index\":[\"(1.450000, 1.525000]\"],\"color\":[\"#f22c40\"],\"fill_alpha\":[0.6],\"height\":[13.0],\"label\":[\"(1.450000, 1.525000]\"],\"line_alpha\":[1.0],\"line_color\":[\"black\"],\"width\":[0.07499999999999996],\"x\":[\"1.4874999999999998\"],\"y\":[6.5]}},\"id\":\"ab9a7a9f-2321-4ad1-b49f-187ee25d2e83\",\"type\":\"ColumnDataSource\"},{\"attributes\":{\"callback\":null,\"column_names\":[\"line_color\",\"fill_alpha\",\"y\",\"width\",\"label\",\"height\",\"color\",\"x\",\"line_alpha\"],\"data\":{\"chart_index\":[\"(1.750000, 1.825000]\"],\"color\":[\"#f22c40\"],\"fill_alpha\":[0.6],\"height\":[0.0],\"label\":[\"(1.750000, 1.825000]\"],\"line_alpha\":[1.0],\"line_color\":[\"black\"],\"width\":[0.07499999999999996],\"x\":[\"1.7875\"],\"y\":[0.0]}},\"id\":\"3b725fb9-f8fd-4def-ba6e-cd13ad892605\",\"type\":\"ColumnDataSource\"},{\"attributes\":{\"fill_alpha\":{\"field\":\"fill_alpha\"},\"fill_color\":{\"field\":\"color\"},\"height\":{\"field\":\"height\",\"units\":\"data\"},\"line_color\":{\"field\":\"line_color\"},\"width\":{\"field\":\"width\",\"units\":\"data\"},\"x\":{\"field\":\"x\"},\"y\":{\"field\":\"y\"}},\"id\":\"82bcc055-9e88-4fbb-bdb9-90815a5a7065\",\"type\":\"Rect\"},{\"attributes\":{\"fill_alpha\":{\"field\":\"fill_alpha\"},\"fill_color\":{\"field\":\"color\"},\"height\":{\"field\":\"height\",\"units\":\"data\"},\"line_color\":{\"field\":\"line_color\"},\"width\":{\"field\":\"width\",\"units\":\"data\"},\"x\":{\"field\":\"x\"},\"y\":{\"field\":\"y\"}},\"id\":\"e3fbe6ae-4c4f-48dd-a887-fd91dee29540\",\"type\":\"Rect\"},{\"attributes\":{\"callback\":null,\"column_names\":[\"line_color\",\"fill_alpha\",\"y\",\"width\",\"label\",\"height\",\"color\",\"x\",\"line_alpha\"],\"data\":{\"chart_index\":[\"(6.100000, 6.300000]\"],\"color\":[\"#407ee7\"],\"fill_alpha\":[0.6],\"height\":[1.0],\"label\":[\"(6.100000, 6.300000]\"],\"line_alpha\":[1.0],\"line_color\":[\"black\"],\"width\":[0.20000000000000018],\"x\":[\"6.199999999999999\"],\"y\":[0.5]}},\"id\":\"9f75c410-4e1a-4ac5-9e9d-519e588d5003\",\"type\":\"ColumnDataSource\"}],\"root_ids\":[\"7b164060-3a0d-485d-b96e-60dbb159c7fb\"]},\"title\":\"Bokeh Application\",\"version\":\"0.12.6\"}};\n",
       "            var render_items = [{\"docid\":\"67bacab6-5d74-4aa7-bee2-ad16dd84feac\",\"elementid\":\"d6685b20-169c-4aae-833c-b2e6cb548b2b\",\"modelid\":\"7b164060-3a0d-485d-b96e-60dbb159c7fb\"}];\n",
       "            \n",
       "            Bokeh.embed.embed_items(docs_json, render_items);\n",
       "          };\n",
       "          if (document.readyState != \"loading\") fn();\n",
       "          else document.addEventListener(\"DOMContentLoaded\", fn);\n",
       "        })();\n",
       "      },\n",
       "      function(Bokeh) {\n",
       "      }\n",
       "    ];\n",
       "  \n",
       "    function run_inline_js() {\n",
       "      \n",
       "      if ((window.Bokeh !== undefined) || (force === true)) {\n",
       "        for (var i = 0; i < inline_js.length; i++) {\n",
       "          inline_js[i](window.Bokeh);\n",
       "        }if (force === true) {\n",
       "          display_loaded();\n",
       "        }} else if (Date.now() < window._bokeh_timeout) {\n",
       "        setTimeout(run_inline_js, 100);\n",
       "      } else if (!window._bokeh_failed_load) {\n",
       "        console.log(\"Bokeh: BokehJS failed to load within specified timeout.\");\n",
       "        window._bokeh_failed_load = true;\n",
       "      } else if (force !== true) {\n",
       "        var cell = $(document.getElementById(\"d6685b20-169c-4aae-833c-b2e6cb548b2b\")).parents('.cell').data().cell;\n",
       "        cell.output_area.append_execute_result(NB_LOAD_WARNING)\n",
       "      }\n",
       "  \n",
       "    }\n",
       "  \n",
       "    if (window._bokeh_is_loading === 0) {\n",
       "      console.log(\"Bokeh: BokehJS loaded, going straight to plotting\");\n",
       "      run_inline_js();\n",
       "    } else {\n",
       "      load_libs(js_urls, function() {\n",
       "        console.log(\"Bokeh: BokehJS plotting callback run at\", now());\n",
       "        run_inline_js();\n",
       "      });\n",
       "    }\n",
       "  }(this));\n",
       "</script>"
      ]
     },
     "metadata": {},
     "output_type": "display_data"
    }
   ],
   "source": [
    "# Plot a complex chart in a single line\n",
    "\n",
    "from bkcharts import Histogram\n",
    "from bokeh.sampledata.iris import flowers as data\n",
    "\n",
    "hist = Histogram(data, values=\"petal_length\", color=\"species\", legend=\"top_right\", bins=12)\n",
    "\n",
    "show(hist)"
   ]
  },
  {
   "cell_type": "code",
   "execution_count": 4,
   "metadata": {
    "scrolled": false,
    "slideshow": {
     "slide_type": "-"
    }
   },
   "outputs": [
    {
     "name": "stdout",
     "output_type": "stream",
     "text": [
      "Using data directory: C:\\Users\\ZekeLabs\\.bokeh\\data\n",
      "Downloading: CGM.csv (1589982 bytes)\n",
      "   1589982 [100.00%]\n",
      "Downloading: US_Counties.zip (3182088 bytes)\n",
      "   3182088 [100.00%]\n",
      "Unpacking: US_Counties.csv\n",
      "Downloading: us_cities.json (713565 bytes)\n",
      "    713565 [100.00%]\n",
      "Downloading: unemployment09.csv (253301 bytes)\n",
      "    253301 [100.00%]\n",
      "Downloading: AAPL.csv (166698 bytes)\n",
      "    166698 [100.00%]\n",
      "Downloading: FB.csv (9706 bytes)\n",
      "      9706 [100.00%]\n",
      "Downloading: GOOG.csv (113894 bytes)\n",
      "    113894 [100.00%]\n",
      "Downloading: IBM.csv (165625 bytes)\n",
      "    165625 [100.00%]\n",
      "Downloading: MSFT.csv (161614 bytes)\n",
      "    161614 [100.00%]\n",
      "Downloading: WPP2012_SA_DB03_POPULATION_QUINQUENNIAL.zip (5148539 bytes)\n",
      "   5148539 [100.00%]\n",
      "Unpacking: WPP2012_SA_DB03_POPULATION_QUINQUENNIAL.csv\n",
      "Downloading: gapminder_fertility.csv (64346 bytes)\n",
      "     64346 [100.00%]\n",
      "Downloading: gapminder_population.csv (94509 bytes)\n",
      "     94509 [100.00%]\n",
      "Downloading: gapminder_life_expectancy.csv (73243 bytes)\n",
      "     73243 [100.00%]\n",
      "Downloading: gapminder_regions.csv (7781 bytes)\n",
      "      7781 [100.00%]\n",
      "Downloading: world_cities.zip (646858 bytes)\n",
      "    646858 [100.00%]\n",
      "Unpacking: world_cities.csv\n",
      "Downloading: airports.json (6373 bytes)\n",
      "      6373 [100.00%]\n",
      "Downloading: movies.db.zip (5067833 bytes)\n",
      "   5067833 [100.00%]\n",
      "Unpacking: movies.db\n"
     ]
    },
    {
     "data": {
      "text/html": [
       "<div style=\"display: table;\"><div style=\"display: table-row;\"><div style=\"display: table-cell;\"><b title=\"bokeh.models.layouts.Column\">Column</b>(</div><div style=\"display: table-cell;\">id&nbsp;=&nbsp;'d406a71f-90be-4d5c-8518-615658aed6e9', <span id=\"f3a58282-065d-4210-80e0-b428b57b9954\" style=\"cursor: pointer;\">&hellip;)</span></div></div><div class=\"242be57e-307b-4b7e-bf11-29fa65eaaa97\" style=\"display: none;\"><div style=\"display: table-cell;\"></div><div style=\"display: table-cell;\">children&nbsp;=&nbsp;[Plot(id='a4d65082-da83-40c2-aad5-8c31f1ab94f0', ...), WidgetBox(id='60ec657d-bb94-4896-8252-b88f22dcb63a', ...)],</div></div><div class=\"242be57e-307b-4b7e-bf11-29fa65eaaa97\" style=\"display: none;\"><div style=\"display: table-cell;\"></div><div style=\"display: table-cell;\">css_classes&nbsp;=&nbsp;None,</div></div><div class=\"242be57e-307b-4b7e-bf11-29fa65eaaa97\" style=\"display: none;\"><div style=\"display: table-cell;\"></div><div style=\"display: table-cell;\">disabled&nbsp;=&nbsp;False,</div></div><div class=\"242be57e-307b-4b7e-bf11-29fa65eaaa97\" style=\"display: none;\"><div style=\"display: table-cell;\"></div><div style=\"display: table-cell;\">height&nbsp;=&nbsp;None,</div></div><div class=\"242be57e-307b-4b7e-bf11-29fa65eaaa97\" style=\"display: none;\"><div style=\"display: table-cell;\"></div><div style=\"display: table-cell;\">js_event_callbacks&nbsp;=&nbsp;{},</div></div><div class=\"242be57e-307b-4b7e-bf11-29fa65eaaa97\" style=\"display: none;\"><div style=\"display: table-cell;\"></div><div style=\"display: table-cell;\">js_property_callbacks&nbsp;=&nbsp;{},</div></div><div class=\"242be57e-307b-4b7e-bf11-29fa65eaaa97\" style=\"display: none;\"><div style=\"display: table-cell;\"></div><div style=\"display: table-cell;\">name&nbsp;=&nbsp;None,</div></div><div class=\"242be57e-307b-4b7e-bf11-29fa65eaaa97\" style=\"display: none;\"><div style=\"display: table-cell;\"></div><div style=\"display: table-cell;\">sizing_mode&nbsp;=&nbsp;'fixed',</div></div><div class=\"242be57e-307b-4b7e-bf11-29fa65eaaa97\" style=\"display: none;\"><div style=\"display: table-cell;\"></div><div style=\"display: table-cell;\">subscribed_events&nbsp;=&nbsp;[],</div></div><div class=\"242be57e-307b-4b7e-bf11-29fa65eaaa97\" style=\"display: none;\"><div style=\"display: table-cell;\"></div><div style=\"display: table-cell;\">tags&nbsp;=&nbsp;[],</div></div><div class=\"242be57e-307b-4b7e-bf11-29fa65eaaa97\" style=\"display: none;\"><div style=\"display: table-cell;\"></div><div style=\"display: table-cell;\">width&nbsp;=&nbsp;None)</div></div></div>\n",
       "<script>\n",
       "(function() {\n",
       "  var expanded = false;\n",
       "  var ellipsis = document.getElementById(\"f3a58282-065d-4210-80e0-b428b57b9954\");\n",
       "  ellipsis.addEventListener(\"click\", function() {\n",
       "    var rows = document.getElementsByClassName(\"242be57e-307b-4b7e-bf11-29fa65eaaa97\");\n",
       "    for (var i = 0; i < rows.length; i++) {\n",
       "      var el = rows[i];\n",
       "      el.style.display = expanded ? \"none\" : \"table-row\";\n",
       "    }\n",
       "    ellipsis.innerHTML = expanded ? \"&hellip;)\" : \"&lsaquo;&lsaquo;&lsaquo;\";\n",
       "    expanded = !expanded;\n",
       "  });\n",
       "})();\n",
       "</script>\n"
      ],
      "text/plain": [
       "Column(id='d406a71f-90be-4d5c-8518-615658aed6e9', ...)"
      ]
     },
     "execution_count": 4,
     "metadata": {},
     "output_type": "execute_result"
    }
   ],
   "source": [
    "# Build and serve beautiful web-ready interactive visualizations\n",
    "\n",
    "import utils,bokeh\n",
    "bokeh.sampledata.download()\n",
    "p = utils.get_gapminder_plot()\n",
    "p"
   ]
  },
  {
   "cell_type": "code",
   "execution_count": 5,
   "metadata": {},
   "outputs": [
    {
     "data": {
      "text/html": [
       "<div style=\"display: table;\"><div style=\"display: table-row;\"><div style=\"display: table-cell;\"><b title=\"bokeh.models.layouts.Column\">Column</b>(</div><div style=\"display: table-cell;\">id&nbsp;=&nbsp;'d406a71f-90be-4d5c-8518-615658aed6e9', <span id=\"ea99af20-15a3-4f90-9bfc-bc2f4c10cd03\" style=\"cursor: pointer;\">&hellip;)</span></div></div><div class=\"c7c2215f-8b78-44bb-8167-5c4339a80b7d\" style=\"display: none;\"><div style=\"display: table-cell;\"></div><div style=\"display: table-cell;\">children&nbsp;=&nbsp;[Plot(id='a4d65082-da83-40c2-aad5-8c31f1ab94f0', ...), WidgetBox(id='60ec657d-bb94-4896-8252-b88f22dcb63a', ...)],</div></div><div class=\"c7c2215f-8b78-44bb-8167-5c4339a80b7d\" style=\"display: none;\"><div style=\"display: table-cell;\"></div><div style=\"display: table-cell;\">css_classes&nbsp;=&nbsp;None,</div></div><div class=\"c7c2215f-8b78-44bb-8167-5c4339a80b7d\" style=\"display: none;\"><div style=\"display: table-cell;\"></div><div style=\"display: table-cell;\">disabled&nbsp;=&nbsp;False,</div></div><div class=\"c7c2215f-8b78-44bb-8167-5c4339a80b7d\" style=\"display: none;\"><div style=\"display: table-cell;\"></div><div style=\"display: table-cell;\">height&nbsp;=&nbsp;None,</div></div><div class=\"c7c2215f-8b78-44bb-8167-5c4339a80b7d\" style=\"display: none;\"><div style=\"display: table-cell;\"></div><div style=\"display: table-cell;\">js_event_callbacks&nbsp;=&nbsp;{},</div></div><div class=\"c7c2215f-8b78-44bb-8167-5c4339a80b7d\" style=\"display: none;\"><div style=\"display: table-cell;\"></div><div style=\"display: table-cell;\">js_property_callbacks&nbsp;=&nbsp;{},</div></div><div class=\"c7c2215f-8b78-44bb-8167-5c4339a80b7d\" style=\"display: none;\"><div style=\"display: table-cell;\"></div><div style=\"display: table-cell;\">name&nbsp;=&nbsp;None,</div></div><div class=\"c7c2215f-8b78-44bb-8167-5c4339a80b7d\" style=\"display: none;\"><div style=\"display: table-cell;\"></div><div style=\"display: table-cell;\">sizing_mode&nbsp;=&nbsp;'fixed',</div></div><div class=\"c7c2215f-8b78-44bb-8167-5c4339a80b7d\" style=\"display: none;\"><div style=\"display: table-cell;\"></div><div style=\"display: table-cell;\">subscribed_events&nbsp;=&nbsp;[],</div></div><div class=\"c7c2215f-8b78-44bb-8167-5c4339a80b7d\" style=\"display: none;\"><div style=\"display: table-cell;\"></div><div style=\"display: table-cell;\">tags&nbsp;=&nbsp;[],</div></div><div class=\"c7c2215f-8b78-44bb-8167-5c4339a80b7d\" style=\"display: none;\"><div style=\"display: table-cell;\"></div><div style=\"display: table-cell;\">width&nbsp;=&nbsp;None)</div></div></div>\n",
       "<script>\n",
       "(function() {\n",
       "  var expanded = false;\n",
       "  var ellipsis = document.getElementById(\"ea99af20-15a3-4f90-9bfc-bc2f4c10cd03\");\n",
       "  ellipsis.addEventListener(\"click\", function() {\n",
       "    var rows = document.getElementsByClassName(\"c7c2215f-8b78-44bb-8167-5c4339a80b7d\");\n",
       "    for (var i = 0; i < rows.length; i++) {\n",
       "      var el = rows[i];\n",
       "      el.style.display = expanded ? \"none\" : \"table-row\";\n",
       "    }\n",
       "    ellipsis.innerHTML = expanded ? \"&hellip;)\" : \"&lsaquo;&lsaquo;&lsaquo;\";\n",
       "    expanded = !expanded;\n",
       "  });\n",
       "})();\n",
       "</script>\n"
      ],
      "text/plain": [
       "Column(id='d406a71f-90be-4d5c-8518-615658aed6e9', ...)"
      ]
     },
     "execution_count": 5,
     "metadata": {},
     "output_type": "execute_result"
    }
   ],
   "source": [
    "p"
   ]
  },
  {
   "cell_type": "code",
   "execution_count": 4,
   "metadata": {},
   "outputs": [
    {
     "data": {
      "text/html": [
       "\n",
       "        <iframe\n",
       "            width=\"900\"\n",
       "            height=\"500\"\n",
       "            src=\"http://demo.bokehplots.com/apps/sliders\"\n",
       "            frameborder=\"0\"\n",
       "            allowfullscreen\n",
       "        ></iframe>\n",
       "        "
      ],
      "text/plain": [
       "<IPython.lib.display.IFrame at 0x19143e3ca20>"
      ]
     },
     "execution_count": 4,
     "metadata": {},
     "output_type": "execute_result"
    }
   ],
   "source": [
    "# Create and deploy interactive data applications\n",
    "\n",
    "from IPython.display import IFrame\n",
    "IFrame('http://demo.bokehplots.com/apps/sliders', width=900, height=500)"
   ]
  },
  {
   "cell_type": "markdown",
   "metadata": {},
   "source": [
    "# How does it work"
   ]
  },
  {
   "cell_type": "markdown",
   "metadata": {
    "slideshow": {
     "slide_type": "-"
    }
   },
   "source": [
    "<img src=\"assets/images/arch.png\" style=\"width:800px\">"
   ]
  },
  {
   "cell_type": "markdown",
   "metadata": {},
   "source": [
    "# Getting set up"
   ]
  },
  {
   "cell_type": "code",
   "execution_count": 5,
   "metadata": {},
   "outputs": [
    {
     "data": {
      "text/markdown": [
       "# Bokeh Tutorial\n",
       "\n",
       "## Setup\n",
       "\n",
       "### Clone or download the repo\n",
       "First get local copies of the tutorial notebooks:\n",
       "\n",
       "```\n",
       "$ git clone https://github.com/bokeh/bokeh-notebooks.git\n",
       "```\n",
       "\n",
       "Or download from: https://github.com/bokeh/bokeh-notebooks/archive/master.zip\n",
       "\n",
       "### Install the dependencies\n",
       "\n",
       "This tutorial has been tested on:\n",
       "* bokeh=0.12.0\n",
       "* pandas=0.18\n",
       "* ipython-notebook=4.0.4\n",
       "* ipywidgets=4.1.1\n",
       "\n",
       "Other combinations may work also. Packages are available via PyPI and anaconda.org.\n",
       "\n",
       "#### Installing with anaconda\n",
       "\n",
       "Install [anaconda](http://continuum.io/downloads)\n",
       "\n",
       "Anaconda should come with all the dependencies included, but you may need to update your versions.\n",
       "\n",
       "#### Install with miniconda\n",
       "\n",
       "Install [miniconda](http://conda.pydata.org/miniconda.html).\n",
       "\n",
       "Use the command line to create an environment and install the packages:\n",
       "\n",
       "```\n",
       "$ conda env create\n",
       "$ source activate bokeh-notebooks\n",
       "```\n",
       "\n",
       "Run this from the tutorial directory where environment.yml lives.\n",
       "\n",
       "### Get the sample data\n",
       "\n",
       "Bokeh has a sample data download that gives us some data to build demo visualizations. To get\n",
       "it run:\n",
       "\n",
       "```\n",
       "$ bokeh sampledata\n",
       "```\n",
       "\n",
       "### Install datashader and holoviews (optional)\n",
       "\n",
       "Optional tutorials 11 and 12 require the datashader and holoviews packages,\n",
       "respectively, which can be installed with:\n",
       "\n",
       "```bash\n",
       "$ conda install -c bokeh datashader\n",
       "$ conda install -c holoviews/label/dev holoviews\n",
       "```\n",
       "\n",
       "### Run Jupyter/IPython notebook\n",
       "\n",
       "From this folder run jupyter notebook, and open the `00-intro.ipynb` notebook.\n",
       "\n",
       "```\n",
       "$ jupyter notebook\n",
       "```\n"
      ],
      "text/plain": [
       "<IPython.core.display.Markdown object>"
      ]
     },
     "execution_count": 5,
     "metadata": {},
     "output_type": "execute_result"
    }
   ],
   "source": [
    "from IPython.core.display import Markdown\n",
    "Markdown(open(\"README.md\").read())"
   ]
  },
  {
   "cell_type": "markdown",
   "metadata": {},
   "source": [
    "Setup-test, run the next cell. Hopefully you should see output that looks something like this:\n",
    "\n",
    "    IPython - 5.1.0\n",
    "    Pandas - 0.18.1\n",
    "    Bokeh - 0.12.2\n",
    "    \n",
    "If this isn't working for you, see the [`README.md`](README.md) in this directory."
   ]
  },
  {
   "cell_type": "code",
   "execution_count": 6,
   "metadata": {},
   "outputs": [
    {
     "name": "stdout",
     "output_type": "stream",
     "text": [
      "IPython - 5.3.0\n",
      "Pandas - 0.19.2\n",
      "Bokeh - 0.12.6\n"
     ]
    }
   ],
   "source": [
    "from IPython import __version__ as ipython_version\n",
    "from pandas import __version__ as pandas_version\n",
    "from bokeh import __version__ as bokeh_version\n",
    "print(\"IPython - %s\" % ipython_version)\n",
    "print(\"Pandas - %s\" % pandas_version)\n",
    "print(\"Bokeh - %s\" % bokeh_version)"
   ]
  },
  {
   "cell_type": "code",
   "execution_count": null,
   "metadata": {
    "collapsed": true
   },
   "outputs": [],
   "source": []
  }
 ],
 "metadata": {
  "anaconda-cloud": {},
  "kernelspec": {
   "display_name": "Python 3",
   "language": "python",
   "name": "python3"
  },
  "language_info": {
   "codemirror_mode": {
    "name": "ipython",
    "version": 3
   },
   "file_extension": ".py",
   "mimetype": "text/x-python",
   "name": "python",
   "nbconvert_exporter": "python",
   "pygments_lexer": "ipython3",
   "version": "3.5.0"
  }
 },
 "nbformat": 4,
 "nbformat_minor": 1
}
